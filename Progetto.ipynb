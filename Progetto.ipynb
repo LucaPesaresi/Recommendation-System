{
 "cells": [
  {
   "cell_type": "markdown",
   "metadata": {
    "id": "2Ysxpvl3izOw"
   },
   "source": [
    "# Progetto per l'esame di Programmazione di applicazioni di Data Intensive "
   ]
  },
  {
   "cell_type": "markdown",
   "metadata": {
    "id": "Xw7b5I46izPB"
   },
   "source": [
    "<div style=\"text-align: right\">di:  Luca Pesaresi </div>"
   ]
  },
  {
   "cell_type": "markdown",
   "metadata": {
    "id": "AX58Ogb8izPF"
   },
   "source": [
    "Il progetto consiste nell'analizzare i dati recuperati dal sito IMDB Internet Movies DataBase) contenente un archivio di informazioni relativi ai titoli di film, serie tv, cortometraggi, ect.\n",
    "Per effettuare l'analisi mi sono servito di due dataset \n",
    "- `imdb_movies.csv` recuperato dal sito https://www.imdb.com/interfaces/\n",
    "- `user_ratings_imdb.csv` recuperato dal sito https://ieee-dataport.org/open-access/imdb-users-ratings-dataset\n",
    " \n",
    "L'obiettivo è quello di svolere un'unalisi di recommendation, in cui dato un utente venga restituita una lista dei titoli suggeriti con valutazioni più alte"
   ]
  },
  {
   "cell_type": "markdown",
   "metadata": {
    "id": "qW7S9AvuizPG"
   },
   "source": [
    "## Librerie"
   ]
  },
  {
   "cell_type": "code",
   "execution_count": 2,
   "metadata": {
    "id": "fv2QPB8LizPH"
   },
   "outputs": [],
   "source": [
    "import numpy as np\n",
    "import pandas as pd\n",
    "import matplotlib.pyplot as plt"
   ]
  },
  {
   "cell_type": "code",
   "execution_count": 3,
   "metadata": {
    "id": "MPtRpRE0BKp5"
   },
   "outputs": [],
   "source": [
    "lib = !pip list -v | grep [Ss]urprise\n",
    "if not lib:\n",
    "  !pip install surprise"
   ]
  },
  {
   "cell_type": "markdown",
   "metadata": {
    "id": "g_BxAK91izPJ"
   },
   "source": [
    "## Caricamento dei dati"
   ]
  },
  {
   "cell_type": "markdown",
   "metadata": {
    "id": "NObJTH8zizPK"
   },
   "source": [
    "Carichiamo i due dataset"
   ]
  },
  {
   "cell_type": "code",
   "execution_count": 4,
   "metadata": {
    "id": "WFgeaxUEizPL"
   },
   "outputs": [],
   "source": [
    "movies = pd.read_csv('imdb_movies.csv')"
   ]
  },
  {
   "cell_type": "code",
   "execution_count": 5,
   "metadata": {
    "colab": {
     "base_uri": "https://localhost:8080/",
     "height": 142
    },
    "id": "hUgf3UWtizPM",
    "outputId": "7dda898a-420a-439f-a20f-8bad6e97e2de"
   },
   "outputs": [
    {
     "data": {
      "text/html": [
       "<div>\n",
       "<style scoped>\n",
       "    .dataframe tbody tr th:only-of-type {\n",
       "        vertical-align: middle;\n",
       "    }\n",
       "\n",
       "    .dataframe tbody tr th {\n",
       "        vertical-align: top;\n",
       "    }\n",
       "\n",
       "    .dataframe thead th {\n",
       "        text-align: right;\n",
       "    }\n",
       "</style>\n",
       "<table border=\"1\" class=\"dataframe\">\n",
       "  <thead>\n",
       "    <tr style=\"text-align: right;\">\n",
       "      <th></th>\n",
       "      <th>tconst</th>\n",
       "      <th>type</th>\n",
       "      <th>title</th>\n",
       "      <th>isAdult</th>\n",
       "      <th>year</th>\n",
       "      <th>minutes</th>\n",
       "      <th>genres</th>\n",
       "    </tr>\n",
       "  </thead>\n",
       "  <tbody>\n",
       "    <tr>\n",
       "      <th>0</th>\n",
       "      <td>tt0000001</td>\n",
       "      <td>short</td>\n",
       "      <td>Carmencita</td>\n",
       "      <td>0</td>\n",
       "      <td>1894</td>\n",
       "      <td>1</td>\n",
       "      <td>Documentary,Short</td>\n",
       "    </tr>\n",
       "    <tr>\n",
       "      <th>1</th>\n",
       "      <td>tt0000002</td>\n",
       "      <td>short</td>\n",
       "      <td>Le clown et ses chiens</td>\n",
       "      <td>0</td>\n",
       "      <td>1892</td>\n",
       "      <td>5</td>\n",
       "      <td>Animation,Short</td>\n",
       "    </tr>\n",
       "    <tr>\n",
       "      <th>2</th>\n",
       "      <td>tt0000003</td>\n",
       "      <td>short</td>\n",
       "      <td>Pauvre Pierrot</td>\n",
       "      <td>0</td>\n",
       "      <td>1892</td>\n",
       "      <td>4</td>\n",
       "      <td>Animation,Comedy,Romance</td>\n",
       "    </tr>\n",
       "  </tbody>\n",
       "</table>\n",
       "</div>"
      ],
      "text/plain": [
       "      tconst   type                   title  isAdult  year minutes  \\\n",
       "0  tt0000001  short              Carmencita        0  1894       1   \n",
       "1  tt0000002  short  Le clown et ses chiens        0  1892       5   \n",
       "2  tt0000003  short          Pauvre Pierrot        0  1892       4   \n",
       "\n",
       "                     genres  \n",
       "0         Documentary,Short  \n",
       "1           Animation,Short  \n",
       "2  Animation,Comedy,Romance  "
      ]
     },
     "execution_count": 5,
     "metadata": {},
     "output_type": "execute_result"
    }
   ],
   "source": [
    "movies.head(3)"
   ]
  },
  {
   "cell_type": "code",
   "execution_count": 6,
   "metadata": {
    "id": "W8EEboVhizPP"
   },
   "outputs": [],
   "source": [
    "user_ratings = pd.read_csv('user_ratings_imdb.csv')"
   ]
  },
  {
   "cell_type": "code",
   "execution_count": 7,
   "metadata": {
    "colab": {
     "base_uri": "https://localhost:8080/",
     "height": 204
    },
    "id": "gBdabRSzizPQ",
    "outputId": "ef97fff1-845f-4ee7-b221-9734d253e8af"
   },
   "outputs": [
    {
     "data": {
      "text/html": [
       "<div>\n",
       "<style scoped>\n",
       "    .dataframe tbody tr th:only-of-type {\n",
       "        vertical-align: middle;\n",
       "    }\n",
       "\n",
       "    .dataframe tbody tr th {\n",
       "        vertical-align: top;\n",
       "    }\n",
       "\n",
       "    .dataframe thead th {\n",
       "        text-align: right;\n",
       "    }\n",
       "</style>\n",
       "<table border=\"1\" class=\"dataframe\">\n",
       "  <thead>\n",
       "    <tr style=\"text-align: right;\">\n",
       "      <th></th>\n",
       "      <th>user_id</th>\n",
       "      <th>tconst</th>\n",
       "      <th>rating</th>\n",
       "    </tr>\n",
       "  </thead>\n",
       "  <tbody>\n",
       "    <tr>\n",
       "      <th>0</th>\n",
       "      <td>ur0000001</td>\n",
       "      <td>tt1144884</td>\n",
       "      <td>4</td>\n",
       "    </tr>\n",
       "    <tr>\n",
       "      <th>1</th>\n",
       "      <td>ur0000002</td>\n",
       "      <td>tt0119237</td>\n",
       "      <td>2</td>\n",
       "    </tr>\n",
       "    <tr>\n",
       "      <th>2</th>\n",
       "      <td>ur0000002</td>\n",
       "      <td>tt0120741</td>\n",
       "      <td>5</td>\n",
       "    </tr>\n",
       "    <tr>\n",
       "      <th>3</th>\n",
       "      <td>ur0000002</td>\n",
       "      <td>tt0120746</td>\n",
       "      <td>7</td>\n",
       "    </tr>\n",
       "    <tr>\n",
       "      <th>4</th>\n",
       "      <td>ur0000002</td>\n",
       "      <td>tt0129387</td>\n",
       "      <td>7</td>\n",
       "    </tr>\n",
       "  </tbody>\n",
       "</table>\n",
       "</div>"
      ],
      "text/plain": [
       "     user_id     tconst  rating\n",
       "0  ur0000001  tt1144884       4\n",
       "1  ur0000002  tt0119237       2\n",
       "2  ur0000002  tt0120741       5\n",
       "3  ur0000002  tt0120746       7\n",
       "4  ur0000002  tt0129387       7"
      ]
     },
     "execution_count": 7,
     "metadata": {},
     "output_type": "execute_result"
    }
   ],
   "source": [
    "user_ratings.head()"
   ]
  },
  {
   "cell_type": "markdown",
   "metadata": {
    "id": "F1yvi7SzizPR"
   },
   "source": [
    "## Significato delle variabili\n",
    "\n",
    "#### imdb_movies\n",
    "- `tconst`: indicizza i titoli del dataset.\n",
    "- `type`: indica la tipologia di video: film, cortometraggio, serie tv, ect.\n",
    "- `title`: indica il titolo del video.\n",
    "- `isAdult`: indica se la visione è ristretta ad un pubblico adulto (1) altrimenti (0). \n",
    "- `year`: indica l'anno di rilascio del video, o nel caso di una serie tv l'anno in cui è iniziata.\n",
    "- `minutes`: riporta il minutaggio del video.\n",
    "- `genres`: indica il genere rispettivo del video.\n",
    "\n",
    "#### user_ratings\n",
    "- `user_id`: indicizza le valutazioni dei ripettivi utenti del dataset.\n",
    "- `tconst`: indicizza il relativo titolo valutato.\n",
    "- `rating`: valutazione del video."
   ]
  },
  {
   "cell_type": "markdown",
   "metadata": {
    "id": "4lkkq54xizPS"
   },
   "source": [
    "## Preparazione dei dati"
   ]
  },
  {
   "cell_type": "markdown",
   "metadata": {
    "id": "7JqV1wVgizPS"
   },
   "source": [
    "Vengono sostuiti tutti i valori vuoti con una stringa vuota"
   ]
  },
  {
   "cell_type": "code",
   "execution_count": 8,
   "metadata": {
    "id": "RWHAkEyQizPT"
   },
   "outputs": [],
   "source": [
    "movies.dropna(inplace=True)\n",
    "movies = movies.loc[movies[\"year\"] != '\\\\N']\n",
    "movies = movies.loc[movies[\"minutes\"] != '\\\\N']\n",
    "movies = movies.loc[movies[\"genres\"] != '\\\\N']\n",
    "movies.reset_index(drop=True, inplace=True)"
   ]
  },
  {
   "cell_type": "markdown",
   "metadata": {
    "id": "MbVM85BAizPU"
   },
   "source": [
    "Si convertono le colonne numeriche nel formato intero."
   ]
  },
  {
   "cell_type": "code",
   "execution_count": 9,
   "metadata": {
    "id": "8GoHiz5pizPU"
   },
   "outputs": [],
   "source": [
    "movies[\"year\"] = movies[\"year\"].astype(int)\n",
    "movies[\"minutes\"] = movies[\"minutes\"].astype(int)"
   ]
  },
  {
   "cell_type": "markdown",
   "metadata": {
    "id": "mHD1PNT9izPV"
   },
   "source": [
    "Si rimuovono tutte i dati relativi ai titoli che devono ancora uscire negli anni a venire."
   ]
  },
  {
   "cell_type": "code",
   "execution_count": 10,
   "metadata": {
    "id": "I9nzo3LwizPV"
   },
   "outputs": [],
   "source": [
    "import datetime\n",
    "year = datetime.datetime.now().year\n",
    "movies = movies[movies[\"year\"] < year]"
   ]
  },
  {
   "cell_type": "code",
   "execution_count": 11,
   "metadata": {
    "colab": {
     "base_uri": "https://localhost:8080/"
    },
    "id": "qqV82lq4izPW",
    "outputId": "31b485b4-c66a-4816-8eae-208570e6a087"
   },
   "outputs": [
    {
     "data": {
      "text/plain": [
       "7882602"
      ]
     },
     "execution_count": 11,
     "metadata": {},
     "output_type": "execute_result"
    }
   ],
   "source": [
    "movies.size"
   ]
  },
  {
   "cell_type": "markdown",
   "metadata": {
    "id": "6KIfvr7_izPX"
   },
   "source": [
    "## Analisi espolorativa dei dati"
   ]
  },
  {
   "cell_type": "markdown",
   "metadata": {
    "id": "L6DZrHYVizPX"
   },
   "source": [
    "Si genera una distribuzione dei titoli a partire dal 1950 ad oggi"
   ]
  },
  {
   "cell_type": "code",
   "execution_count": 12,
   "metadata": {
    "colab": {
     "base_uri": "https://localhost:8080/",
     "height": 274
    },
    "id": "UNG1YfbtizPY",
    "outputId": "3d8ce37c-aed8-4530-abf3-264f6c4ea863"
   },
   "outputs": [
    {
     "data": {
      "image/png": "[encoded data removed]",
      "text/plain": [
       "<Figure size 1440x360 with 1 Axes>"
      ]
     },
     "metadata": {
      "needs_background": "light"
     },
     "output_type": "display_data"
    }
   ],
   "source": [
    "movies.loc[movies[\"year\"] > 1949][\"year\"].value_counts().sort_index().plot.bar(figsize=(20,5));"
   ]
  },
  {
   "cell_type": "markdown",
   "metadata": {
    "id": "ff7syQWvizPY"
   },
   "source": [
    "Solamente una piccola percentuale dei titoli è riservata ad un pubblico adulto"
   ]
  },
  {
   "cell_type": "code",
   "execution_count": 13,
   "metadata": {
    "colab": {
     "base_uri": "https://localhost:8080/"
    },
    "id": "Ln1Y9PCGizPZ",
    "outputId": "9adb52f4-7930-4bbe-c00a-17593c30f96d"
   },
   "outputs": [
    {
     "data": {
      "text/plain": [
       "0    94.0\n",
       "1     6.0\n",
       "Name: isAdult, dtype: float64"
      ]
     },
     "execution_count": 13,
     "metadata": {},
     "output_type": "execute_result"
    }
   ],
   "source": [
    "100*round(movies[\"isAdult\"].value_counts(normalize=True),2)"
   ]
  },
  {
   "cell_type": "markdown",
   "metadata": {
    "id": "t5NY0KYJZp8W"
   },
   "source": []
  },
  {
   "cell_type": "markdown",
   "metadata": {
    "id": "5aa7hqpRizPa"
   },
   "source": [
    "Dal grafico si notano i generi più di tendenza "
   ]
  },
  {
   "cell_type": "code",
   "execution_count": 14,
   "metadata": {
    "colab": {
     "base_uri": "https://localhost:8080/",
     "height": 575
    },
    "id": "cynjyVYFizPb",
    "outputId": "496f4f9d-9636-42ed-a47f-c7b9524fb6c5"
   },
   "outputs": [
    {
     "data": {
      "image/png": "[encoded data removed]",
      "text/plain": [
       "<Figure size 720x720 with 1 Axes>"
      ]
     },
     "metadata": {},
     "output_type": "display_data"
    }
   ],
   "source": [
    "movies[\"genres\"].value_counts(ascending=False)[:20].plot.pie(figsize=(10,10));"
   ]
  },
  {
   "cell_type": "code",
   "execution_count": 15,
   "metadata": {
    "colab": {
     "base_uri": "https://localhost:8080/",
     "height": 297
    },
    "id": "FbeNzTgNizPc",
    "outputId": "3c8da61d-ac7e-4c7f-9624-4170335d02e5"
   },
   "outputs": [
    {
     "data": {
      "text/html": [
       "<div>\n",
       "<style scoped>\n",
       "    .dataframe tbody tr th:only-of-type {\n",
       "        vertical-align: middle;\n",
       "    }\n",
       "\n",
       "    .dataframe tbody tr th {\n",
       "        vertical-align: top;\n",
       "    }\n",
       "\n",
       "    .dataframe thead th {\n",
       "        text-align: right;\n",
       "    }\n",
       "</style>\n",
       "<table border=\"1\" class=\"dataframe\">\n",
       "  <thead>\n",
       "    <tr style=\"text-align: right;\">\n",
       "      <th></th>\n",
       "      <th>rating</th>\n",
       "    </tr>\n",
       "  </thead>\n",
       "  <tbody>\n",
       "    <tr>\n",
       "      <th>count</th>\n",
       "      <td>4.669820e+06</td>\n",
       "    </tr>\n",
       "    <tr>\n",
       "      <th>mean</th>\n",
       "      <td>6.557848e+00</td>\n",
       "    </tr>\n",
       "    <tr>\n",
       "      <th>std</th>\n",
       "      <td>2.532589e+00</td>\n",
       "    </tr>\n",
       "    <tr>\n",
       "      <th>min</th>\n",
       "      <td>1.000000e+00</td>\n",
       "    </tr>\n",
       "    <tr>\n",
       "      <th>25%</th>\n",
       "      <td>5.000000e+00</td>\n",
       "    </tr>\n",
       "    <tr>\n",
       "      <th>50%</th>\n",
       "      <td>7.000000e+00</td>\n",
       "    </tr>\n",
       "    <tr>\n",
       "      <th>75%</th>\n",
       "      <td>9.000000e+00</td>\n",
       "    </tr>\n",
       "    <tr>\n",
       "      <th>max</th>\n",
       "      <td>1.000000e+01</td>\n",
       "    </tr>\n",
       "  </tbody>\n",
       "</table>\n",
       "</div>"
      ],
      "text/plain": [
       "             rating\n",
       "count  4.669820e+06\n",
       "mean   6.557848e+00\n",
       "std    2.532589e+00\n",
       "min    1.000000e+00\n",
       "25%    5.000000e+00\n",
       "50%    7.000000e+00\n",
       "75%    9.000000e+00\n",
       "max    1.000000e+01"
      ]
     },
     "execution_count": 15,
     "metadata": {},
     "output_type": "execute_result"
    }
   ],
   "source": [
    "user_ratings.describe()"
   ]
  },
  {
   "cell_type": "markdown",
   "metadata": {
    "id": "4oe-WJywizPc"
   },
   "source": [
    "Confronto tra le varie tipologie di video."
   ]
  },
  {
   "cell_type": "code",
   "execution_count": 16,
   "metadata": {
    "colab": {
     "base_uri": "https://localhost:8080/",
     "height": 317
    },
    "id": "hM5kwSTbizPd",
    "outputId": "3daf7f8b-bd69-4689-c012-76aa91234cc9"
   },
   "outputs": [
    {
     "data": {
      "image/png": "[encoded data removed]",
      "text/plain": [
       "<Figure size 432x288 with 1 Axes>"
      ]
     },
     "metadata": {
      "needs_background": "light"
     },
     "output_type": "display_data"
    }
   ],
   "source": [
    "movies[\"type\"].value_counts().plot.bar();"
   ]
  },
  {
   "cell_type": "markdown",
   "metadata": {
    "id": "2EyGLuJuizPd"
   },
   "source": [
    "Il dataframe user_ratings contiene le valutazioni per un campione di 1_499_238 utenti per 351_109 titoli con un range di 10 voti "
   ]
  },
  {
   "cell_type": "code",
   "execution_count": 17,
   "metadata": {
    "colab": {
     "base_uri": "https://localhost:8080/"
    },
    "id": "iBzjmcBlizPe",
    "outputId": "9462c6e6-83d5-455d-ce5c-66f4be4d4a27"
   },
   "outputs": [
    {
     "data": {
      "text/plain": [
       "user_id    1499238\n",
       "tconst      351109\n",
       "rating          10\n",
       "dtype: int64"
      ]
     },
     "execution_count": 17,
     "metadata": {},
     "output_type": "execute_result"
    }
   ],
   "source": [
    "user_ratings.nunique()"
   ]
  },
  {
   "cell_type": "markdown",
   "metadata": {
    "id": "cvT9e3nbizPf"
   },
   "source": [
    "La distribuzione dei voti secondo il range di valutazioni "
   ]
  },
  {
   "cell_type": "code",
   "execution_count": 18,
   "metadata": {
    "colab": {
     "base_uri": "https://localhost:8080/",
     "height": 80
    },
    "id": "zSor2alnizPf",
    "outputId": "5fb5b3dd-8895-4f2a-97f0-2c48486e77a1"
   },
   "outputs": [
    {
     "data": {
      "text/html": [
       "<div>\n",
       "<style scoped>\n",
       "    .dataframe tbody tr th:only-of-type {\n",
       "        vertical-align: middle;\n",
       "    }\n",
       "\n",
       "    .dataframe tbody tr th {\n",
       "        vertical-align: top;\n",
       "    }\n",
       "\n",
       "    .dataframe thead th {\n",
       "        text-align: right;\n",
       "    }\n",
       "</style>\n",
       "<table border=\"1\" class=\"dataframe\">\n",
       "  <thead>\n",
       "    <tr style=\"text-align: right;\">\n",
       "      <th></th>\n",
       "      <th>1</th>\n",
       "      <th>2</th>\n",
       "      <th>3</th>\n",
       "      <th>4</th>\n",
       "      <th>5</th>\n",
       "      <th>6</th>\n",
       "      <th>7</th>\n",
       "      <th>8</th>\n",
       "      <th>9</th>\n",
       "      <th>10</th>\n",
       "    </tr>\n",
       "  </thead>\n",
       "  <tbody>\n",
       "    <tr>\n",
       "      <th>rating</th>\n",
       "      <td>199834</td>\n",
       "      <td>262117</td>\n",
       "      <td>278304</td>\n",
       "      <td>290156</td>\n",
       "      <td>364741</td>\n",
       "      <td>550629</td>\n",
       "      <td>702626</td>\n",
       "      <td>814896</td>\n",
       "      <td>725833</td>\n",
       "      <td>480684</td>\n",
       "    </tr>\n",
       "  </tbody>\n",
       "</table>\n",
       "</div>"
      ],
      "text/plain": [
       "            1       2       3       4       5       6       7       8   \\\n",
       "rating  199834  262117  278304  290156  364741  550629  702626  814896   \n",
       "\n",
       "            9       10  \n",
       "rating  725833  480684  "
      ]
     },
     "execution_count": 18,
     "metadata": {},
     "output_type": "execute_result"
    }
   ],
   "source": [
    "pd.DataFrame(user_ratings[\"rating\"].value_counts().sort_index()).T"
   ]
  },
  {
   "cell_type": "code",
   "execution_count": 19,
   "metadata": {
    "colab": {
     "base_uri": "https://localhost:8080/",
     "height": 262
    },
    "id": "WR0HxWZjizPg",
    "outputId": "b0154e22-c864-482f-ee09-3194353b8198"
   },
   "outputs": [
    {
     "data": {
      "image/png": "[encoded data removed]",
      "text/plain": [
       "<Figure size 1440x360 with 1 Axes>"
      ]
     },
     "metadata": {
      "needs_background": "light"
     },
     "output_type": "display_data"
    }
   ],
   "source": [
    "user_ratings[\"rating\"].value_counts().sort_index().plot.bar(figsize=(20, 5));"
   ]
  },
  {
   "cell_type": "markdown",
   "metadata": {
    "id": "lrVQYbb3izPh"
   },
   "source": [
    "Si definisce una funzione per limitare le occorrenze al fine di semplificare la visualizzazione dei dati"
   ]
  },
  {
   "cell_type": "code",
   "execution_count": 20,
   "metadata": {
    "id": "xOqtYp3oizPh"
   },
   "outputs": [],
   "source": [
    "def lim_df(df, lim):\n",
    "    df.groupby(\"user_id\").head(lim)\n",
    "    user_id_max = df[\"user_id\"].unique()[:lim][lim-1]\n",
    "    last_element = (np.where(df[\"user_id\"] == user_id_max))[0]\n",
    "    last_element = last_element[len(last_element)-1]\n",
    "    return df[:last_element]"
   ]
  },
  {
   "cell_type": "code",
   "execution_count": 21,
   "metadata": {
    "id": "D7N6NJ1fizPi"
   },
   "outputs": [],
   "source": [
    "lim_user = lim_df(user_ratings, 50)"
   ]
  },
  {
   "cell_type": "markdown",
   "metadata": {
    "id": "WHMKKQiTizPi"
   },
   "source": [
    "Si vuole ottenere una distribuzione sul numero di valutazioni medie per utente e il numero di valutazioni medie per film"
   ]
  },
  {
   "cell_type": "code",
   "execution_count": 22,
   "metadata": {
    "colab": {
     "base_uri": "https://localhost:8080/",
     "height": 314
    },
    "id": "qDWa7kADizPj",
    "outputId": "212c6b5f-4465-4ca9-a462-710197b01978"
   },
   "outputs": [
    {
     "data": {
      "image/png": "[encoded data removed]",
      "text/plain": [
       "<Figure size 1440x360 with 1 Axes>"
      ]
     },
     "metadata": {
      "needs_background": "light"
     },
     "output_type": "display_data"
    }
   ],
   "source": [
    "lim_user.groupby(\"user_id\")[\"rating\"].mean().plot.bar(figsize=(20,5));"
   ]
  },
  {
   "cell_type": "code",
   "execution_count": 23,
   "metadata": {
    "colab": {
     "base_uri": "https://localhost:8080/",
     "height": 313
    },
    "id": "yaYsxD6cizPj",
    "outputId": "7bea2758-d09b-4f11-de37-652d0d8ad160"
   },
   "outputs": [
    {
     "data": {
      "image/png": "[encoded data removed]",
      "text/plain": [
       "<Figure size 1440x360 with 1 Axes>"
      ]
     },
     "metadata": {
      "needs_background": "light"
     },
     "output_type": "display_data"
    }
   ],
   "source": [
    "lim_movie = user_ratings.head(50)\n",
    "lim_movie.groupby(\"tconst\")[\"rating\"].mean().plot.bar(figsize=(20,5));"
   ]
  },
  {
   "cell_type": "markdown",
   "metadata": {
    "id": "NAJvhxCrizPk"
   },
   "source": [
    "Dato che le valutazioni degli utenti non sono note all'interno del dataframe `movies`, si ricava un dataframe contenente le medie delle valutazioni per ogni titolo del dataframe `user_ratings`."
   ]
  },
  {
   "cell_type": "code",
   "execution_count": 24,
   "metadata": {
    "colab": {
     "base_uri": "https://localhost:8080/",
     "height": 204
    },
    "id": "t1pkCL87izPl",
    "outputId": "13d63f07-1c8c-48c7-c947-64c35a70826c"
   },
   "outputs": [
    {
     "data": {
      "text/html": [
       "<div>\n",
       "<style scoped>\n",
       "    .dataframe tbody tr th:only-of-type {\n",
       "        vertical-align: middle;\n",
       "    }\n",
       "\n",
       "    .dataframe tbody tr th {\n",
       "        vertical-align: top;\n",
       "    }\n",
       "\n",
       "    .dataframe thead th {\n",
       "        text-align: right;\n",
       "    }\n",
       "</style>\n",
       "<table border=\"1\" class=\"dataframe\">\n",
       "  <thead>\n",
       "    <tr style=\"text-align: right;\">\n",
       "      <th></th>\n",
       "      <th>tconst</th>\n",
       "      <th>rating</th>\n",
       "    </tr>\n",
       "  </thead>\n",
       "  <tbody>\n",
       "    <tr>\n",
       "      <th>0</th>\n",
       "      <td>tt0000001</td>\n",
       "      <td>6.0</td>\n",
       "    </tr>\n",
       "    <tr>\n",
       "      <th>1</th>\n",
       "      <td>tt0000003</td>\n",
       "      <td>7.1</td>\n",
       "    </tr>\n",
       "    <tr>\n",
       "      <th>2</th>\n",
       "      <td>tt0000005</td>\n",
       "      <td>7.0</td>\n",
       "    </tr>\n",
       "    <tr>\n",
       "      <th>3</th>\n",
       "      <td>tt0000007</td>\n",
       "      <td>6.0</td>\n",
       "    </tr>\n",
       "    <tr>\n",
       "      <th>4</th>\n",
       "      <td>tt0000008</td>\n",
       "      <td>7.0</td>\n",
       "    </tr>\n",
       "  </tbody>\n",
       "</table>\n",
       "</div>"
      ],
      "text/plain": [
       "      tconst  rating\n",
       "0  tt0000001     6.0\n",
       "1  tt0000003     7.1\n",
       "2  tt0000005     7.0\n",
       "3  tt0000007     6.0\n",
       "4  tt0000008     7.0"
      ]
     },
     "execution_count": 24,
     "metadata": {},
     "output_type": "execute_result"
    }
   ],
   "source": [
    "ur = user_ratings\n",
    "means = ur.groupby(\"tconst\")[\"rating\"].mean()\n",
    "index = pd.Series(means.index.values, name='tconst')\n",
    "values = pd.Series([round(i,1) for i in means.values], name=\"rating\")\n",
    "movies_avg = pd.concat([index, values], axis=1)\n",
    "movies_avg.head()"
   ]
  },
  {
   "cell_type": "markdown",
   "metadata": {
    "id": "irByZfnmizPl"
   },
   "source": [
    "Si unisce il dataframe appena creato con il dataframe movies per aggiungere una valutazione generale per ogni titolo"
   ]
  },
  {
   "cell_type": "code",
   "execution_count": 25,
   "metadata": {
    "colab": {
     "base_uri": "https://localhost:8080/",
     "height": 204
    },
    "id": "YSm_EjwWizPm",
    "outputId": "72777598-3084-4aed-cec0-6ea09e96f760"
   },
   "outputs": [
    {
     "data": {
      "text/html": [
       "<div>\n",
       "<style scoped>\n",
       "    .dataframe tbody tr th:only-of-type {\n",
       "        vertical-align: middle;\n",
       "    }\n",
       "\n",
       "    .dataframe tbody tr th {\n",
       "        vertical-align: top;\n",
       "    }\n",
       "\n",
       "    .dataframe thead th {\n",
       "        text-align: right;\n",
       "    }\n",
       "</style>\n",
       "<table border=\"1\" class=\"dataframe\">\n",
       "  <thead>\n",
       "    <tr style=\"text-align: right;\">\n",
       "      <th></th>\n",
       "      <th>tconst</th>\n",
       "      <th>type</th>\n",
       "      <th>title</th>\n",
       "      <th>isAdult</th>\n",
       "      <th>year</th>\n",
       "      <th>minutes</th>\n",
       "      <th>genres</th>\n",
       "      <th>rating</th>\n",
       "    </tr>\n",
       "  </thead>\n",
       "  <tbody>\n",
       "    <tr>\n",
       "      <th>0</th>\n",
       "      <td>tt0000001</td>\n",
       "      <td>short</td>\n",
       "      <td>Carmencita</td>\n",
       "      <td>0</td>\n",
       "      <td>1894</td>\n",
       "      <td>1</td>\n",
       "      <td>Documentary,Short</td>\n",
       "      <td>6.0</td>\n",
       "    </tr>\n",
       "    <tr>\n",
       "      <th>1</th>\n",
       "      <td>tt0000003</td>\n",
       "      <td>short</td>\n",
       "      <td>Pauvre Pierrot</td>\n",
       "      <td>0</td>\n",
       "      <td>1892</td>\n",
       "      <td>4</td>\n",
       "      <td>Animation,Comedy,Romance</td>\n",
       "      <td>7.1</td>\n",
       "    </tr>\n",
       "    <tr>\n",
       "      <th>2</th>\n",
       "      <td>tt0000005</td>\n",
       "      <td>short</td>\n",
       "      <td>Blacksmith Scene</td>\n",
       "      <td>0</td>\n",
       "      <td>1893</td>\n",
       "      <td>1</td>\n",
       "      <td>Comedy,Short</td>\n",
       "      <td>7.0</td>\n",
       "    </tr>\n",
       "    <tr>\n",
       "      <th>3</th>\n",
       "      <td>tt0000007</td>\n",
       "      <td>short</td>\n",
       "      <td>Corbett and Courtney Before the Kinetograph</td>\n",
       "      <td>0</td>\n",
       "      <td>1894</td>\n",
       "      <td>1</td>\n",
       "      <td>Short,Sport</td>\n",
       "      <td>6.0</td>\n",
       "    </tr>\n",
       "    <tr>\n",
       "      <th>4</th>\n",
       "      <td>tt0000008</td>\n",
       "      <td>short</td>\n",
       "      <td>Edison Kinetoscopic Record of a Sneeze</td>\n",
       "      <td>0</td>\n",
       "      <td>1894</td>\n",
       "      <td>1</td>\n",
       "      <td>Documentary,Short</td>\n",
       "      <td>7.0</td>\n",
       "    </tr>\n",
       "  </tbody>\n",
       "</table>\n",
       "</div>"
      ],
      "text/plain": [
       "      tconst   type                                        title  isAdult  \\\n",
       "0  tt0000001  short                                   Carmencita        0   \n",
       "1  tt0000003  short                               Pauvre Pierrot        0   \n",
       "2  tt0000005  short                             Blacksmith Scene        0   \n",
       "3  tt0000007  short  Corbett and Courtney Before the Kinetograph        0   \n",
       "4  tt0000008  short       Edison Kinetoscopic Record of a Sneeze        0   \n",
       "\n",
       "   year  minutes                    genres  rating  \n",
       "0  1894        1         Documentary,Short     6.0  \n",
       "1  1892        4  Animation,Comedy,Romance     7.1  \n",
       "2  1893        1              Comedy,Short     7.0  \n",
       "3  1894        1               Short,Sport     6.0  \n",
       "4  1894        1         Documentary,Short     7.0  "
      ]
     },
     "execution_count": 25,
     "metadata": {},
     "output_type": "execute_result"
    }
   ],
   "source": [
    "movies_rated = movies.merge(movies_avg, left_on = 'tconst', right_on = 'tconst')\n",
    "movies_rated.head()"
   ]
  },
  {
   "cell_type": "markdown",
   "metadata": {
    "id": "sNivVewlizPn"
   },
   "source": [
    "Si associano i vari titoli alle relative valutazioni di ogni singolo utente"
   ]
  },
  {
   "cell_type": "code",
   "execution_count": 26,
   "metadata": {
    "colab": {
     "base_uri": "https://localhost:8080/",
     "height": 204
    },
    "id": "DN7QbGoTizPn",
    "outputId": "76ddfabb-4f4f-4d5a-fef5-32998f53048f"
   },
   "outputs": [
    {
     "data": {
      "text/html": [
       "<div>\n",
       "<style scoped>\n",
       "    .dataframe tbody tr th:only-of-type {\n",
       "        vertical-align: middle;\n",
       "    }\n",
       "\n",
       "    .dataframe tbody tr th {\n",
       "        vertical-align: top;\n",
       "    }\n",
       "\n",
       "    .dataframe thead th {\n",
       "        text-align: right;\n",
       "    }\n",
       "</style>\n",
       "<table border=\"1\" class=\"dataframe\">\n",
       "  <thead>\n",
       "    <tr style=\"text-align: right;\">\n",
       "      <th></th>\n",
       "      <th>user_id</th>\n",
       "      <th>title</th>\n",
       "      <th>user_rating</th>\n",
       "    </tr>\n",
       "  </thead>\n",
       "  <tbody>\n",
       "    <tr>\n",
       "      <th>0</th>\n",
       "      <td>ur0000001</td>\n",
       "      <td>The Final Destination</td>\n",
       "      <td>4</td>\n",
       "    </tr>\n",
       "    <tr>\n",
       "      <th>1</th>\n",
       "      <td>ur0000002</td>\n",
       "      <td>The Mask of Zorro</td>\n",
       "      <td>7</td>\n",
       "    </tr>\n",
       "    <tr>\n",
       "      <th>2</th>\n",
       "      <td>ur0000002</td>\n",
       "      <td>There's Something About Mary</td>\n",
       "      <td>7</td>\n",
       "    </tr>\n",
       "    <tr>\n",
       "      <th>3</th>\n",
       "      <td>ur0000002</td>\n",
       "      <td>Disturbing Behavior</td>\n",
       "      <td>4</td>\n",
       "    </tr>\n",
       "    <tr>\n",
       "      <th>4</th>\n",
       "      <td>ur0000002</td>\n",
       "      <td>Freddy Got Fingered</td>\n",
       "      <td>2</td>\n",
       "    </tr>\n",
       "  </tbody>\n",
       "</table>\n",
       "</div>"
      ],
      "text/plain": [
       "     user_id                         title  user_rating\n",
       "0  ur0000001         The Final Destination            4\n",
       "1  ur0000002             The Mask of Zorro            7\n",
       "2  ur0000002  There's Something About Mary            7\n",
       "3  ur0000002           Disturbing Behavior            4\n",
       "4  ur0000002           Freddy Got Fingered            2"
      ]
     },
     "execution_count": 26,
     "metadata": {},
     "output_type": "execute_result"
    }
   ],
   "source": [
    "ur = user_ratings.merge(movies_rated[[\"tconst\",\"title\"]], left_on = 'tconst', right_on = 'tconst')\n",
    "ur.rename(columns = {'rating':'user_rating'}, inplace = True)\n",
    "ur = ur[[\"user_id\",\"title\",\"user_rating\"]].sort_values(\"user_id\")\n",
    "ur.reset_index(drop=True, inplace=True)\n",
    "ur.head()"
   ]
  },
  {
   "cell_type": "code",
   "execution_count": 27,
   "metadata": {
    "colab": {
     "base_uri": "https://localhost:8080/"
    },
    "id": "dG9m-N1MizPo",
    "outputId": "78475549-7a55-4ad3-82a0-ef2424c53600"
   },
   "outputs": [
    {
     "data": {
      "text/plain": [
       "11923593"
      ]
     },
     "execution_count": 27,
     "metadata": {},
     "output_type": "execute_result"
    }
   ],
   "source": [
    "ur.size"
   ]
  },
  {
   "cell_type": "markdown",
   "metadata": {
    "id": "GiSDWHhUizPo"
   },
   "source": [
    "Il dataframe è troppo voluminoso quindi si rimuovono tutti i duplicati e si limita la dimensione a 500 utenti"
   ]
  },
  {
   "cell_type": "code",
   "execution_count": 28,
   "metadata": {
    "id": "hNnWRcqEizPp"
   },
   "outputs": [],
   "source": [
    "lim_ur = ur.drop_duplicates(subset=['user_id','title'], keep='first')\n",
    "lim_ur = lim_df(lim_ur, 250)"
   ]
  },
  {
   "cell_type": "code",
   "execution_count": 29,
   "metadata": {
    "colab": {
     "base_uri": "https://localhost:8080/"
    },
    "id": "HzgarcMZizPp",
    "outputId": "10d8ee1c-1830-47c8-ffc5-97d88301d456"
   },
   "outputs": [
    {
     "data": {
      "text/plain": [
       "7284"
      ]
     },
     "execution_count": 29,
     "metadata": {},
     "output_type": "execute_result"
    }
   ],
   "source": [
    "lim_ur.size"
   ]
  },
  {
   "cell_type": "markdown",
   "metadata": {
    "id": "dmIYDO-PizPq"
   },
   "source": [
    "Si creano due insiemi per l'addestramento e la validazione dei dati"
   ]
  },
  {
   "cell_type": "code",
   "execution_count": 30,
   "metadata": {
    "id": "oOLJ1fKrizPr"
   },
   "outputs": [],
   "source": [
    "from sklearn.model_selection import train_test_split\n",
    "data_train, data_test = train_test_split(lim_ur, test_size=1/3, random_state=42)"
   ]
  },
  {
   "cell_type": "markdown",
   "metadata": {
    "id": "6GFsMHkNizPs"
   },
   "source": [
    "Viene impostato come indice del frame la coppia di colonne `user` e `title`"
   ]
  },
  {
   "cell_type": "code",
   "execution_count": 31,
   "metadata": {
    "id": "c6Etq_KxizPs"
   },
   "outputs": [],
   "source": [
    "data_train.set_index([\"user_id\",\"title\"], inplace=True)"
   ]
  },
  {
   "cell_type": "code",
   "execution_count": 32,
   "metadata": {
    "colab": {
     "base_uri": "https://localhost:8080/",
     "height": 235
    },
    "id": "BIO2mAsRizPt",
    "outputId": "d00d2543-d12c-4f72-8d4a-b9f03d2dbf20"
   },
   "outputs": [
    {
     "data": {
      "text/html": [
       "<div>\n",
       "<style scoped>\n",
       "    .dataframe tbody tr th:only-of-type {\n",
       "        vertical-align: middle;\n",
       "    }\n",
       "\n",
       "    .dataframe tbody tr th {\n",
       "        vertical-align: top;\n",
       "    }\n",
       "\n",
       "    .dataframe thead th {\n",
       "        text-align: right;\n",
       "    }\n",
       "</style>\n",
       "<table border=\"1\" class=\"dataframe\">\n",
       "  <thead>\n",
       "    <tr style=\"text-align: right;\">\n",
       "      <th></th>\n",
       "      <th></th>\n",
       "      <th>user_rating</th>\n",
       "    </tr>\n",
       "    <tr>\n",
       "      <th>user_id</th>\n",
       "      <th>title</th>\n",
       "      <th></th>\n",
       "    </tr>\n",
       "  </thead>\n",
       "  <tbody>\n",
       "    <tr>\n",
       "      <th>ur0000950</th>\n",
       "      <th>Terminal Velocity</th>\n",
       "      <td>8</td>\n",
       "    </tr>\n",
       "    <tr>\n",
       "      <th>ur0002578</th>\n",
       "      <th>Inside Man</th>\n",
       "      <td>9</td>\n",
       "    </tr>\n",
       "    <tr>\n",
       "      <th>ur0001220</th>\n",
       "      <th>The Ghost and Mrs. Muir</th>\n",
       "      <td>7</td>\n",
       "    </tr>\n",
       "    <tr>\n",
       "      <th>ur0000011</th>\n",
       "      <th>Maid in Manhattan</th>\n",
       "      <td>7</td>\n",
       "    </tr>\n",
       "    <tr>\n",
       "      <th>ur0002746</th>\n",
       "      <th>Out of Time</th>\n",
       "      <td>6</td>\n",
       "    </tr>\n",
       "  </tbody>\n",
       "</table>\n",
       "</div>"
      ],
      "text/plain": [
       "                                   user_rating\n",
       "user_id   title                               \n",
       "ur0000950 Terminal Velocity                  8\n",
       "ur0002578 Inside Man                         9\n",
       "ur0001220 The Ghost and Mrs. Muir            7\n",
       "ur0000011 Maid in Manhattan                  7\n",
       "ur0002746 Out of Time                        6"
      ]
     },
     "execution_count": 32,
     "metadata": {},
     "output_type": "execute_result"
    }
   ],
   "source": [
    "data_train.head()"
   ]
  },
  {
   "cell_type": "markdown",
   "metadata": {
    "id": "0Y_9CN0mizPw"
   },
   "source": [
    "Si procede con l'estrazione di una matrice utenti per titoli dove: \n",
    "  - ogni riga corrisponde ad un utente $u$\n",
    "  - ogni colonna corrisponde ad un titolo $i$\n",
    "  - ogni cella contiene il voto dato dall'utente $u$ a al titolo $t$"
   ]
  },
  {
   "cell_type": "markdown",
   "metadata": {
    "id": "5GuhnXa6izPx"
   },
   "source": [
    "Si esegue l'operazione di pivoting `unstack` sull'unica colonna rimasta `user_rating` per portare i titoli dall'indice delle righe a quello delle colonne"
   ]
  },
  {
   "cell_type": "code",
   "execution_count": 33,
   "metadata": {
    "id": "Me0ZCQOpizPy"
   },
   "outputs": [],
   "source": [
    "train_ratings = data_train[\"user_rating\"].unstack(\"title\") "
   ]
  },
  {
   "cell_type": "code",
   "execution_count": 34,
   "metadata": {
    "colab": {
     "base_uri": "https://localhost:8080/",
     "height": 235
    },
    "id": "vXFdWikPizPy",
    "outputId": "907decaa-651e-40cd-b21c-0f4c7db25ae6"
   },
   "outputs": [
    {
     "data": {
      "text/html": [
       "<div>\n",
       "<style scoped>\n",
       "    .dataframe tbody tr th:only-of-type {\n",
       "        vertical-align: middle;\n",
       "    }\n",
       "\n",
       "    .dataframe tbody tr th {\n",
       "        vertical-align: top;\n",
       "    }\n",
       "\n",
       "    .dataframe thead th {\n",
       "        text-align: right;\n",
       "    }\n",
       "</style>\n",
       "<table border=\"1\" class=\"dataframe\">\n",
       "  <thead>\n",
       "    <tr style=\"text-align: right;\">\n",
       "      <th>title</th>\n",
       "      <th>'Neath the Arizona Skies</th>\n",
       "      <th>'Tis Autumn: The Search for Jackie Paris</th>\n",
       "      <th>10 pesos</th>\n",
       "      <th>100 Million BC</th>\n",
       "      <th>102 Dalmatians</th>\n",
       "    </tr>\n",
       "    <tr>\n",
       "      <th>user_id</th>\n",
       "      <th></th>\n",
       "      <th></th>\n",
       "      <th></th>\n",
       "      <th></th>\n",
       "      <th></th>\n",
       "    </tr>\n",
       "  </thead>\n",
       "  <tbody>\n",
       "    <tr>\n",
       "      <th>ur0000001</th>\n",
       "      <td>NaN</td>\n",
       "      <td>NaN</td>\n",
       "      <td>NaN</td>\n",
       "      <td>NaN</td>\n",
       "      <td>NaN</td>\n",
       "    </tr>\n",
       "    <tr>\n",
       "      <th>ur0000002</th>\n",
       "      <td>NaN</td>\n",
       "      <td>NaN</td>\n",
       "      <td>NaN</td>\n",
       "      <td>NaN</td>\n",
       "      <td>NaN</td>\n",
       "    </tr>\n",
       "    <tr>\n",
       "      <th>ur0000005</th>\n",
       "      <td>NaN</td>\n",
       "      <td>NaN</td>\n",
       "      <td>NaN</td>\n",
       "      <td>NaN</td>\n",
       "      <td>NaN</td>\n",
       "    </tr>\n",
       "    <tr>\n",
       "      <th>ur0000011</th>\n",
       "      <td>NaN</td>\n",
       "      <td>NaN</td>\n",
       "      <td>NaN</td>\n",
       "      <td>NaN</td>\n",
       "      <td>NaN</td>\n",
       "    </tr>\n",
       "    <tr>\n",
       "      <th>ur0000013</th>\n",
       "      <td>NaN</td>\n",
       "      <td>NaN</td>\n",
       "      <td>NaN</td>\n",
       "      <td>NaN</td>\n",
       "      <td>NaN</td>\n",
       "    </tr>\n",
       "  </tbody>\n",
       "</table>\n",
       "</div>"
      ],
      "text/plain": [
       "title      'Neath the Arizona Skies  'Tis Autumn: The Search for Jackie Paris  \\\n",
       "user_id                                                                         \n",
       "ur0000001                       NaN                                       NaN   \n",
       "ur0000002                       NaN                                       NaN   \n",
       "ur0000005                       NaN                                       NaN   \n",
       "ur0000011                       NaN                                       NaN   \n",
       "ur0000013                       NaN                                       NaN   \n",
       "\n",
       "title      10 pesos  100 Million BC  102 Dalmatians  \n",
       "user_id                                              \n",
       "ur0000001       NaN             NaN             NaN  \n",
       "ur0000002       NaN             NaN             NaN  \n",
       "ur0000005       NaN             NaN             NaN  \n",
       "ur0000011       NaN             NaN             NaN  \n",
       "ur0000013       NaN             NaN             NaN  "
      ]
     },
     "execution_count": 34,
     "metadata": {},
     "output_type": "execute_result"
    }
   ],
   "source": [
    "train_ratings.iloc[:5, :5]"
   ]
  },
  {
   "cell_type": "markdown",
   "metadata": {
    "id": "-PnaGfLWizPz"
   },
   "source": [
    "## Creazione dei modelli"
   ]
  },
  {
   "cell_type": "markdown",
   "metadata": {
    "id": "6URj3zp9izPz"
   },
   "source": [
    "###  Raccomendation User-based Collaborative Filtering con similarità coseno"
   ]
  },
  {
   "cell_type": "markdown",
   "metadata": {
    "id": "EHLI70RqizP0"
   },
   "source": [
    "- La <b>recommendation user-based</b>, pemette la previsione di un voto $\\hat{r}_{u,t}$ per un titolo $t$ da un utente $u$  in base ai voti dati da altri utenti a $t$, pesati proporzionalmente alla loro somiglianza con l'utente $u$.\n",
    "- Per calcolare la somiglianza si usa la <b>similarità coseno</b> $\\text{sim}(u,v)$ che trova l'angolo formato tra tra due vettori che in questo caso sono le valutazioni tra i due utenti $u$ e $v$\n",
    "- Nell'approccio <b>collaborative filtering</b> si usa la similarità coseno confrontando i voti dati da entrambi gli utenti"
   ]
  },
  {
   "cell_type": "code",
   "execution_count": 35,
   "metadata": {
    "colab": {
     "base_uri": "https://localhost:8080/"
    },
    "id": "gOiDgm2iizP1",
    "outputId": "f84644c2-7a68-411d-ab10-63ea5ba6eee9"
   },
   "outputs": [
    {
     "data": {
      "text/plain": [
       "array([[0., 0., 0., 0., 0.],\n",
       "       [0., 0., 0., 0., 0.],\n",
       "       [0., 0., 0., 0., 0.],\n",
       "       [0., 0., 0., 0., 0.],\n",
       "       [0., 0., 0., 0., 0.]])"
      ]
     },
     "execution_count": 35,
     "metadata": {},
     "output_type": "execute_result"
    }
   ],
   "source": [
    "R = train_ratings.fillna(0).values\n",
    "R[:5,:5]"
   ]
  },
  {
   "cell_type": "code",
   "execution_count": 36,
   "metadata": {
    "colab": {
     "base_uri": "https://localhost:8080/"
    },
    "id": "IW6RsM2mizP1",
    "outputId": "3168db1f-1c58-4400-948e-4f3017fc788d"
   },
   "outputs": [
    {
     "data": {
      "text/plain": [
       "array([[False, False, False, False, False],\n",
       "       [False, False, False, False, False],\n",
       "       [False, False, False, False, False],\n",
       "       [False, False, False, False, False],\n",
       "       [False, False, False, False, False]])"
      ]
     },
     "execution_count": 36,
     "metadata": {},
     "output_type": "execute_result"
    }
   ],
   "source": [
    "P = train_ratings.notna().values\n",
    "P[:5,:5]"
   ]
  },
  {
   "cell_type": "markdown",
   "metadata": {
    "id": "KIhJ5-4SizP2"
   },
   "source": [
    "Si procede calcolando numeratore e denominatore"
   ]
  },
  {
   "cell_type": "code",
   "execution_count": 37,
   "metadata": {
    "id": "3rU_2eILizP2"
   },
   "outputs": [],
   "source": [
    "cos_num = R @ R.T"
   ]
  },
  {
   "cell_type": "code",
   "execution_count": 38,
   "metadata": {
    "id": "qJC37VItizP3"
   },
   "outputs": [],
   "source": [
    "P_and = P[:, None, :] & P[None, :, :]\n",
    "R_com = P_and * R[:, None, :]\n",
    "R_com_rss = np.sqrt(np.sum(np.square(R_com), 2))\n",
    "cos_den = R_com_rss * R_com_rss.T"
   ]
  },
  {
   "cell_type": "code",
   "execution_count": 39,
   "metadata": {
    "colab": {
     "base_uri": "https://localhost:8080/"
    },
    "id": "YMqG6hztizP3",
    "outputId": "95b138cd-88b7-4e9f-ce8f-6f323d83676d"
   },
   "outputs": [
    {
     "name": "stderr",
     "output_type": "stream",
     "text": [
      "C:\\Users\\luca2\\anaconda3\\lib\\site-packages\\ipykernel_launcher.py:1: RuntimeWarning: invalid value encountered in true_divide\n",
      "  \"\"\"Entry point for launching an IPython kernel.\n"
     ]
    },
    {
     "data": {
      "text/plain": [
       "array([[1., 0., 0., 0., 0.],\n",
       "       [0., 1., 0., 0., 0.],\n",
       "       [0., 0., 1., 0., 0.],\n",
       "       [0., 0., 0., 1., 0.],\n",
       "       [0., 0., 0., 0., 1.]])"
      ]
     },
     "execution_count": 39,
     "metadata": {},
     "output_type": "execute_result"
    }
   ],
   "source": [
    "cos = cos_num / cos_den\n",
    "cos[np.isnan(cos)] = 0\n",
    "cos[:5, :5]"
   ]
  },
  {
   "cell_type": "markdown",
   "metadata": {
    "id": "CyIlCMbIizP4"
   },
   "source": [
    "Si definisce una funzione che dati gli indici utente $u$ e titolo $t$ venga restituito il voto predetto"
   ]
  },
  {
   "cell_type": "code",
   "execution_count": 40,
   "metadata": {
    "id": "4VkuVg3YizP4"
   },
   "outputs": [],
   "source": [
    "def predict_from_all(u, t):\n",
    "    other_users = list(np.where(P[:, t])[0])\n",
    "    predicted_vote = (cos[u, other_users] @ R[other_users, t]) / cos[u, other_users].sum()\n",
    "    return predicted_vote if not np.isnan(predicted_vote) else R[P].mean()"
   ]
  },
  {
   "cell_type": "code",
   "execution_count": 41,
   "metadata": {
    "colab": {
     "base_uri": "https://localhost:8080/"
    },
    "id": "KaMs64tyizP5",
    "outputId": "0f551fbe-d4a5-4741-a651-82b935b6227b"
   },
   "outputs": [
    {
     "name": "stderr",
     "output_type": "stream",
     "text": [
      "C:\\Users\\luca2\\anaconda3\\lib\\site-packages\\ipykernel_launcher.py:3: RuntimeWarning: invalid value encountered in double_scalars\n",
      "  This is separate from the ipykernel package so we can avoid doing imports until\n"
     ]
    },
    {
     "data": {
      "text/plain": [
       "6.484548825710754"
      ]
     },
     "execution_count": 41,
     "metadata": {},
     "output_type": "execute_result"
    }
   ],
   "source": [
    "predict_from_all(4, 1)"
   ]
  },
  {
   "cell_type": "markdown",
   "metadata": {
    "id": "6C7bruh1izP6"
   },
   "source": [
    "Si eseguono le operazioni di indicizzazione sui dati di validazione "
   ]
  },
  {
   "cell_type": "code",
   "execution_count": 42,
   "metadata": {
    "id": "I_vzkjmdizP6"
   },
   "outputs": [],
   "source": [
    "data_test.set_index([\"user_id\",\"title\"], inplace=True)\n",
    "val_ratings = data_test[\"user_rating\"].unstack(\"title\") \n",
    "val_ratings = val_ratings.reindex_like(train_ratings)"
   ]
  },
  {
   "cell_type": "markdown",
   "metadata": {
    "id": "Reyr9F62izP7"
   },
   "source": [
    "Si creano due matrici \n",
    "- R_val contenente i voti, uguali a 0 dove sono mancanti \n",
    "- P_val matrice booleana che indica per quali coppie utente-oggetto è presente un voto"
   ]
  },
  {
   "cell_type": "code",
   "execution_count": 43,
   "metadata": {
    "id": "PQTVf3fvizP7"
   },
   "outputs": [],
   "source": [
    "R_val = val_ratings.fillna(0).values\n",
    "P_val = val_ratings.notna().values"
   ]
  },
  {
   "cell_type": "markdown",
   "metadata": {
    "id": "giYR8KaXizP8"
   },
   "source": [
    "Si definisce un vettore `val_actual` con tutti i voti definiti nel validation set"
   ]
  },
  {
   "cell_type": "code",
   "execution_count": 44,
   "metadata": {
    "id": "JzFnXye1izP8"
   },
   "outputs": [],
   "source": [
    "val_actual = R_val[P_val]"
   ]
  },
  {
   "cell_type": "markdown",
   "metadata": {
    "id": "9M4_k44xizP9"
   },
   "source": [
    "Si definisce una funzione che effettui le previsioni dei voti di tutte le coppie utente $u$, titolo $t$ (che hanno già un voto val_actual) sui dati di validazione"
   ]
  },
  {
   "cell_type": "code",
   "execution_count": 45,
   "metadata": {
    "id": "h59QimYlizP9"
   },
   "outputs": [],
   "source": [
    "def get_val_predictions(pred_func):\n",
    "    return np.array([pred_func(u, t)\n",
    "                     for u, t in zip(*np.where(P_val))])"
   ]
  },
  {
   "cell_type": "code",
   "execution_count": 46,
   "metadata": {
    "colab": {
     "base_uri": "https://localhost:8080/"
    },
    "id": "Zdc0cqA3izP-",
    "outputId": "06579261-25cf-49a4-8e7e-fd81197e5f84"
   },
   "outputs": [
    {
     "name": "stderr",
     "output_type": "stream",
     "text": [
      "C:\\Users\\luca2\\anaconda3\\lib\\site-packages\\ipykernel_launcher.py:3: RuntimeWarning: invalid value encountered in double_scalars\n",
      "  This is separate from the ipykernel package so we can avoid doing imports until\n"
     ]
    }
   ],
   "source": [
    "val_predictions = get_val_predictions(predict_from_all)"
   ]
  },
  {
   "cell_type": "code",
   "execution_count": 47,
   "metadata": {
    "colab": {
     "base_uri": "https://localhost:8080/"
    },
    "id": "Ym_4S7DJizP_",
    "outputId": "9627570d-b9f9-4f5c-df39-af7d76bafbc3"
   },
   "outputs": [
    {
     "data": {
      "text/plain": [
       "array([ 6.48454883,  6.48454883,  6.48454883,  6.48454883,  6.        ,\n",
       "        9.48031469,  8.        ,  6.48454883,  6.48454883,  6.48454883,\n",
       "        6.48454883,  6.48454883,  6.48454883,  6.48454883,  6.48454883,\n",
       "        8.        ,  5.        ,  6.48454883,  6.48454883,  6.48454883,\n",
       "        8.        ,  6.        ,  6.48454883,  7.        ,  6.48454883,\n",
       "        5.        ,  6.48454883,  5.        ,  6.        ,  3.        ,\n",
       "        9.        ,  9.        ,  6.48454883,  6.48454883,  6.48454883,\n",
       "        6.48454883,  6.48454883,  6.48454883,  6.48454883,  6.48454883,\n",
       "        6.        ,  6.48454883,  6.48454883,  6.48454883,  6.48454883,\n",
       "        6.48454883,  6.48454883,  6.48454883,  9.        ,  6.48454883,\n",
       "        6.48454883,  6.48454883,  6.48454883,  6.48454883,  6.48454883,\n",
       "        6.48454883,  6.48454883,  7.        ,  6.48454883,  3.        ,\n",
       "        6.        ,  5.        ,  6.48454883,  7.        ,  6.48454883,\n",
       "        5.        ,  6.48454883,  6.48454883,  4.        ,  6.48454883,\n",
       "        6.48454883,  6.48454883,  6.48454883,  9.        ,  9.        ,\n",
       "        8.60924783, 10.        ,  6.48454883,  6.48454883,  7.        ,\n",
       "        6.48454883,  6.48454883,  6.48454883,  6.48454883,  8.        ,\n",
       "        8.        ,  6.48454883,  6.48454883,  7.        ,  4.        ,\n",
       "        6.        ,  6.48454883,  8.        ,  4.        ,  3.        ,\n",
       "        6.48454883,  6.48454883,  7.        ,  6.48454883,  8.        ,\n",
       "        6.48454883,  6.48454883,  7.        ,  6.48454883,  6.48454883,\n",
       "        6.48454883,  6.48454883,  6.48454883,  5.        ,  4.        ,\n",
       "        3.        ,  6.48454883,  6.48454883, 10.        ,  6.48454883,\n",
       "        6.48454883])"
      ]
     },
     "execution_count": 47,
     "metadata": {},
     "output_type": "execute_result"
    }
   ],
   "source": [
    "val_predictions"
   ]
  },
  {
   "cell_type": "code",
   "execution_count": 48,
   "metadata": {
    "colab": {
     "base_uri": "https://localhost:8080/"
    },
    "id": "WQJx8F8gizP_",
    "outputId": "6897a45a-cb75-4dd1-d385-5b67d44b2a8f"
   },
   "outputs": [
    {
     "data": {
      "text/plain": [
       "array([ 5.,  6.,  6.,  6.,  7.,  1.,  7.,  8.,  5.,  5.,  6.,  5.,  9.,\n",
       "        3., 10.,  9.,  1.,  8.,  9.,  5.,  8.,  9.,  8.,  5.,  6.,  6.,\n",
       "        6.,  4.,  8.,  4.,  7.,  6.,  9.,  7.,  6.,  6.,  7.,  4.,  6.,\n",
       "        6.,  8.,  9.,  5.,  1.,  8.,  8.,  4.,  9.,  9., 10.,  6.,  8.,\n",
       "       10., 10.,  9.,  2.,  6., 10.,  6.,  7.,  7.,  5.,  3.,  6.,  6.,\n",
       "        6.,  4., 10.,  9.,  6.,  9.,  3.,  6., 10.,  9.,  6.,  7.,  8.,\n",
       "        7.,  7.,  8., 10.,  9.,  9.,  3.,  8.,  9.,  8.,  7.,  3.,  8.,\n",
       "        3.,  5.,  5.,  4.,  8.,  4.,  7.,  6.,  9.,  2.,  7.,  6.,  5.,\n",
       "        3.,  6.,  7.,  5.,  2.,  8.,  9.,  4.,  1.,  9.,  9.,  9.])"
      ]
     },
     "execution_count": 48,
     "metadata": {},
     "output_type": "execute_result"
    }
   ],
   "source": [
    "val_actual"
   ]
  },
  {
   "cell_type": "markdown",
   "metadata": {
    "id": "M9dkaVroizQA"
   },
   "source": [
    "Si definiscono le funzioni per il calcolo dell'errore quadratico medio RMSE e la media degli errori in valore assoluto MAE"
   ]
  },
  {
   "cell_type": "code",
   "execution_count": 49,
   "metadata": {
    "id": "qxE8xZUNizQA"
   },
   "outputs": [],
   "source": [
    "def RMSE(actual, predicted):\n",
    "    return np.sqrt(np.mean(np.square(predicted - actual)))"
   ]
  },
  {
   "cell_type": "code",
   "execution_count": 50,
   "metadata": {
    "id": "WQiK6YdbizQB",
    "scrolled": true
   },
   "outputs": [],
   "source": [
    "rmse = RMSE(val_actual, val_predictions)"
   ]
  },
  {
   "cell_type": "code",
   "execution_count": 51,
   "metadata": {
    "id": "MOEeoEyaizQB"
   },
   "outputs": [],
   "source": [
    "def MAE(actual, predicted):\n",
    "    return np.mean(abs(predicted - actual))"
   ]
  },
  {
   "cell_type": "code",
   "execution_count": 52,
   "metadata": {
    "id": "GJEjcor9izQC"
   },
   "outputs": [],
   "source": [
    "mae = MAE(val_actual, val_predictions)"
   ]
  },
  {
   "cell_type": "markdown",
   "metadata": {
    "id": "kW-2nCRwizQC"
   },
   "source": [
    "Si definisce una funzione che restituisca un dataframe con i rispettivi errori di accuratezza per ogni modello. "
   ]
  },
  {
   "cell_type": "code",
   "execution_count": 53,
   "metadata": {
    "id": "QzuYdsjBizQD"
   },
   "outputs": [],
   "source": [
    "def update_accuracy(df, model, rmse, mae):\n",
    "    return df.append(pd.DataFrame([[model, rmse, mae]], columns=df.columns), ignore_index=True)"
   ]
  },
  {
   "cell_type": "code",
   "execution_count": 54,
   "metadata": {
    "colab": {
     "base_uri": "https://localhost:8080/",
     "height": 0
    },
    "id": "ua57kO9nizQD",
    "outputId": "910a48c8-7e75-4110-90eb-c899624f6042"
   },
   "outputs": [
    {
     "data": {
      "text/html": [
       "<div>\n",
       "<style scoped>\n",
       "    .dataframe tbody tr th:only-of-type {\n",
       "        vertical-align: middle;\n",
       "    }\n",
       "\n",
       "    .dataframe tbody tr th {\n",
       "        vertical-align: top;\n",
       "    }\n",
       "\n",
       "    .dataframe thead th {\n",
       "        text-align: right;\n",
       "    }\n",
       "</style>\n",
       "<table border=\"1\" class=\"dataframe\">\n",
       "  <thead>\n",
       "    <tr style=\"text-align: right;\">\n",
       "      <th></th>\n",
       "      <th>model</th>\n",
       "      <th>RMSE</th>\n",
       "      <th>MAE</th>\n",
       "    </tr>\n",
       "  </thead>\n",
       "  <tbody>\n",
       "    <tr>\n",
       "      <th>0</th>\n",
       "      <td>cf</td>\n",
       "      <td>2.440524</td>\n",
       "      <td>1.917943</td>\n",
       "    </tr>\n",
       "  </tbody>\n",
       "</table>\n",
       "</div>"
      ],
      "text/plain": [
       "  model      RMSE       MAE\n",
       "0    cf  2.440524  1.917943"
      ]
     },
     "execution_count": 54,
     "metadata": {},
     "output_type": "execute_result"
    }
   ],
   "source": [
    "accuracy = pd.DataFrame(columns=[\"model\",\"RMSE\",\"MAE\"])\n",
    "accuracy = update_accuracy(accuracy, \"cf\", rmse, mae)\n",
    "accuracy"
   ]
  },
  {
   "cell_type": "markdown",
   "metadata": {
    "id": "luj4WroCizQE"
   },
   "source": [
    "Da quest'analisi possiamo notare che sia il MAE che l'RMSE sono poco accurati utilizzando questo tipo di approccio."
   ]
  },
  {
   "cell_type": "markdown",
   "metadata": {
    "id": "a_SLIqesizQF"
   },
   "source": [
    "### Surprise"
   ]
  },
  {
   "cell_type": "markdown",
   "metadata": {
    "id": "lK0N_l06izQF"
   },
   "source": [
    "Surprise è una libreria che premette di eseguire un'analisi di studio nella creazione e validazione di modelli di recommendation"
   ]
  },
  {
   "cell_type": "code",
   "execution_count": 55,
   "metadata": {
    "id": "IRIu6FZ3izQF"
   },
   "outputs": [],
   "source": [
    "from surprise import Dataset, Reader\n",
    "from surprise.model_selection import train_test_split\n",
    "reader = Reader(sep=\",\",rating_scale=(1, 10))"
   ]
  },
  {
   "cell_type": "markdown",
   "metadata": {
    "id": "rvl0dP3NizQG"
   },
   "source": [
    "Si usa il dataframe limitato di user_ratings"
   ]
  },
  {
   "cell_type": "code",
   "execution_count": 56,
   "metadata": {
    "id": "Xm8lyHrpizQG",
    "scrolled": true
   },
   "outputs": [],
   "source": [
    "data = Dataset.load_from_df(lim_ur, reader)"
   ]
  },
  {
   "cell_type": "markdown",
   "metadata": {
    "id": "MNqtShoXizQI"
   },
   "source": [
    "I dati vengono siddivisi in due insiemi: addestramento e validazione."
   ]
  },
  {
   "cell_type": "code",
   "execution_count": 57,
   "metadata": {
    "id": "7EM5V1GyizQJ"
   },
   "outputs": [],
   "source": [
    "data_train, data_test = train_test_split(data, test_size=1/3, random_state=42)"
   ]
  },
  {
   "cell_type": "markdown",
   "metadata": {
    "id": "JC-H1mjuizQN"
   },
   "source": [
    "Si estraggono alcune informazioni dall'insieme di addestramento"
   ]
  },
  {
   "cell_type": "code",
   "execution_count": 58,
   "metadata": {
    "colab": {
     "base_uri": "https://localhost:8080/"
    },
    "id": "L8mgLL41izQO",
    "outputId": "80e8412d-146a-43f4-81a0-494a6cc34ebb"
   },
   "outputs": [
    {
     "name": "stdout",
     "output_type": "stream",
     "text": [
      "Media globale:\t\t6.52\n",
      "Numore utenti:\t\t202\n",
      "Numore titoli:\t\t1477\n",
      "Numore valutazioni:\t1618\n"
     ]
    }
   ],
   "source": [
    "print('Media globale:\\t\\t{:.2f}'.format(data_train.global_mean)) \n",
    "print('Numore utenti:\\t\\t{}'.format(data_train.n_users)) \n",
    "print('Numore titoli:\\t\\t{}'.format(data_train.n_items)) \n",
    "print('Numore valutazioni:\\t{}'.format(data_train.n_ratings)) "
   ]
  },
  {
   "cell_type": "markdown",
   "metadata": {
    "id": "uK-bBxnXizQP"
   },
   "source": [
    "#### Surprise KNNBasic con Similarità Coseno"
   ]
  },
  {
   "cell_type": "markdown",
   "metadata": {
    "id": "K7kTRuO4izQQ"
   },
   "source": [
    "Si crea un modello Surprise con la classe KNNBasic, usando similarità coseno e pearson, considerando una selezione di k utenti per ogni predizione, al fine di ottenere un modello migliore si usa anche la Cross-Fold-Validation"
   ]
  },
  {
   "cell_type": "code",
   "execution_count": 59,
   "metadata": {
    "id": "rsiBag2vizQR"
   },
   "outputs": [],
   "source": [
    "from surprise import KNNBasic\n",
    "from surprise.accuracy import rmse, mae\n",
    "from surprise.model_selection import cross_validate, KFold"
   ]
  },
  {
   "cell_type": "code",
   "execution_count": 60,
   "metadata": {
    "id": "4sImRVFUizQR"
   },
   "outputs": [],
   "source": [
    "kf = KFold(n_splits=5, shuffle=True, random_state=42)"
   ]
  },
  {
   "cell_type": "code",
   "execution_count": 61,
   "metadata": {
    "colab": {
     "base_uri": "https://localhost:8080/"
    },
    "id": "JlckDjqAizQS",
    "outputId": "fa247290-09b5-40d1-ebb7-f53e0fdd6f22"
   },
   "outputs": [
    {
     "name": "stdout",
     "output_type": "stream",
     "text": [
      "Computing the cosine similarity matrix...\n",
      "Done computing similarity matrix.\n",
      "Computing the cosine similarity matrix...\n",
      "Done computing similarity matrix.\n",
      "Computing the cosine similarity matrix...\n",
      "Done computing similarity matrix.\n",
      "Computing the cosine similarity matrix...\n",
      "Done computing similarity matrix.\n",
      "Computing the cosine similarity matrix...\n",
      "Done computing similarity matrix.\n"
     ]
    }
   ],
   "source": [
    "model = KNNBasic(k=10, sim_options={\"name\": \"cosine\"})\n",
    "cv_results = cross_validate(model, data, cv=kf)"
   ]
  },
  {
   "cell_type": "code",
   "execution_count": 62,
   "metadata": {
    "colab": {
     "base_uri": "https://localhost:8080/",
     "height": 204
    },
    "id": "HO0WkDu_izQS",
    "outputId": "f050bed9-17fb-4d55-e958-fa041e396d08"
   },
   "outputs": [
    {
     "data": {
      "text/html": [
       "<div>\n",
       "<style scoped>\n",
       "    .dataframe tbody tr th:only-of-type {\n",
       "        vertical-align: middle;\n",
       "    }\n",
       "\n",
       "    .dataframe tbody tr th {\n",
       "        vertical-align: top;\n",
       "    }\n",
       "\n",
       "    .dataframe thead th {\n",
       "        text-align: right;\n",
       "    }\n",
       "</style>\n",
       "<table border=\"1\" class=\"dataframe\">\n",
       "  <thead>\n",
       "    <tr style=\"text-align: right;\">\n",
       "      <th></th>\n",
       "      <th>test_rmse</th>\n",
       "      <th>test_mae</th>\n",
       "      <th>fit_time</th>\n",
       "      <th>test_time</th>\n",
       "    </tr>\n",
       "  </thead>\n",
       "  <tbody>\n",
       "    <tr>\n",
       "      <th>0</th>\n",
       "      <td>2.144758</td>\n",
       "      <td>1.747347</td>\n",
       "      <td>0.005984</td>\n",
       "      <td>0.010971</td>\n",
       "    </tr>\n",
       "    <tr>\n",
       "      <th>1</th>\n",
       "      <td>2.112744</td>\n",
       "      <td>1.706264</td>\n",
       "      <td>0.002991</td>\n",
       "      <td>0.009975</td>\n",
       "    </tr>\n",
       "    <tr>\n",
       "      <th>2</th>\n",
       "      <td>2.259743</td>\n",
       "      <td>1.900585</td>\n",
       "      <td>0.001997</td>\n",
       "      <td>0.002989</td>\n",
       "    </tr>\n",
       "    <tr>\n",
       "      <th>3</th>\n",
       "      <td>2.328499</td>\n",
       "      <td>1.902456</td>\n",
       "      <td>0.002994</td>\n",
       "      <td>0.002990</td>\n",
       "    </tr>\n",
       "    <tr>\n",
       "      <th>4</th>\n",
       "      <td>2.189842</td>\n",
       "      <td>1.803907</td>\n",
       "      <td>0.001995</td>\n",
       "      <td>0.003989</td>\n",
       "    </tr>\n",
       "  </tbody>\n",
       "</table>\n",
       "</div>"
      ],
      "text/plain": [
       "   test_rmse  test_mae  fit_time  test_time\n",
       "0   2.144758  1.747347  0.005984   0.010971\n",
       "1   2.112744  1.706264  0.002991   0.009975\n",
       "2   2.259743  1.900585  0.001997   0.002989\n",
       "3   2.328499  1.902456  0.002994   0.002990\n",
       "4   2.189842  1.803907  0.001995   0.003989"
      ]
     },
     "execution_count": 62,
     "metadata": {},
     "output_type": "execute_result"
    }
   ],
   "source": [
    "results = pd.DataFrame(cv_results)\n",
    "results"
   ]
  },
  {
   "cell_type": "markdown",
   "metadata": {
    "id": "XF0lv-qdizQT"
   },
   "source": [
    "Si esegue una predizione con predict tramite i parametri uid:indice degli user e iid:indice dei titoli"
   ]
  },
  {
   "cell_type": "code",
   "execution_count": 63,
   "metadata": {
    "colab": {
     "base_uri": "https://localhost:8080/"
    },
    "id": "PTQ8h9X-izQU",
    "outputId": "262c8af2-6f4b-4947-9611-dc7f63122247"
   },
   "outputs": [
    {
     "data": {
      "text/plain": [
       "Prediction(uid=1, iid=1, r_ui=None, est=6.4915079773546065, details={'was_impossible': True, 'reason': 'User and/or item is unknown.'})"
      ]
     },
     "execution_count": 63,
     "metadata": {},
     "output_type": "execute_result"
    }
   ],
   "source": [
    "model.predict(1,1)"
   ]
  },
  {
   "cell_type": "code",
   "execution_count": 64,
   "metadata": {
    "colab": {
     "base_uri": "https://localhost:8080/"
    },
    "id": "LOYKg2i9izQU",
    "outputId": "09a5a44c-c24e-45fa-a635-202a46ead21f"
   },
   "outputs": [
    {
     "name": "stdout",
     "output_type": "stream",
     "text": [
      "Computing the cosine similarity matrix...\n",
      "Done computing similarity matrix.\n",
      "RMSE: 2.2392\n",
      "MAE:  1.8435\n"
     ]
    },
    {
     "data": {
      "text/plain": [
       "(2.239226510623208, 1.8434525172061227)"
      ]
     },
     "execution_count": 64,
     "metadata": {},
     "output_type": "execute_result"
    }
   ],
   "source": [
    "model.fit(data_train)\n",
    "pred = model.test(data_test)\n",
    "rmse(pred), mae(pred)"
   ]
  },
  {
   "cell_type": "code",
   "execution_count": 65,
   "metadata": {
    "id": "tyw8tDstizQV"
   },
   "outputs": [],
   "source": [
    "rmse2 = cv_results[\"test_rmse\"].mean()\n",
    "mae2 = cv_results[\"test_mae\"].mean()\n",
    "accuracy = update_accuracy(accuracy, \"cosine\", rmse2, mae2)"
   ]
  },
  {
   "cell_type": "markdown",
   "metadata": {
    "id": "c98ng2GLizQV"
   },
   "source": [
    "#### Surprise KNNBasic con Similarità Pearson"
   ]
  },
  {
   "cell_type": "markdown",
   "metadata": {
    "id": "O32RoUV-izQW"
   },
   "source": [
    "Si ripete l'analisi con similarità pearson"
   ]
  },
  {
   "cell_type": "code",
   "execution_count": 66,
   "metadata": {
    "colab": {
     "base_uri": "https://localhost:8080/"
    },
    "id": "f9L4mZqXizQW",
    "outputId": "11f123fa-52ae-400d-8644-235dbe660906"
   },
   "outputs": [
    {
     "name": "stdout",
     "output_type": "stream",
     "text": [
      "Computing the pearson similarity matrix...\n",
      "Done computing similarity matrix.\n",
      "Computing the pearson similarity matrix...\n",
      "Done computing similarity matrix.\n",
      "Computing the pearson similarity matrix...\n",
      "Done computing similarity matrix.\n",
      "Computing the pearson similarity matrix...\n",
      "Done computing similarity matrix.\n",
      "Computing the pearson similarity matrix...\n",
      "Done computing similarity matrix.\n"
     ]
    }
   ],
   "source": [
    "from surprise.accuracy import rmse, mae\n",
    "model = KNNBasic(k=10, sim_options={\"name\": \"pearson\"})\n",
    "cv_results = cross_validate(model, data, cv=kf)"
   ]
  },
  {
   "cell_type": "code",
   "execution_count": 67,
   "metadata": {
    "colab": {
     "base_uri": "https://localhost:8080/",
     "height": 204
    },
    "id": "19ZTs1hxizQX",
    "outputId": "f9870a7c-bffa-4685-9ef3-7d6134407c58"
   },
   "outputs": [
    {
     "data": {
      "text/html": [
       "<div>\n",
       "<style scoped>\n",
       "    .dataframe tbody tr th:only-of-type {\n",
       "        vertical-align: middle;\n",
       "    }\n",
       "\n",
       "    .dataframe tbody tr th {\n",
       "        vertical-align: top;\n",
       "    }\n",
       "\n",
       "    .dataframe thead th {\n",
       "        text-align: right;\n",
       "    }\n",
       "</style>\n",
       "<table border=\"1\" class=\"dataframe\">\n",
       "  <thead>\n",
       "    <tr style=\"text-align: right;\">\n",
       "      <th></th>\n",
       "      <th>test_rmse</th>\n",
       "      <th>test_mae</th>\n",
       "      <th>fit_time</th>\n",
       "      <th>test_time</th>\n",
       "    </tr>\n",
       "  </thead>\n",
       "  <tbody>\n",
       "    <tr>\n",
       "      <th>0</th>\n",
       "      <td>2.108197</td>\n",
       "      <td>1.722434</td>\n",
       "      <td>0.004987</td>\n",
       "      <td>0.012964</td>\n",
       "    </tr>\n",
       "    <tr>\n",
       "      <th>1</th>\n",
       "      <td>2.094392</td>\n",
       "      <td>1.694671</td>\n",
       "      <td>0.004998</td>\n",
       "      <td>0.006966</td>\n",
       "    </tr>\n",
       "    <tr>\n",
       "      <th>2</th>\n",
       "      <td>2.222896</td>\n",
       "      <td>1.869724</td>\n",
       "      <td>0.005978</td>\n",
       "      <td>0.007979</td>\n",
       "    </tr>\n",
       "    <tr>\n",
       "      <th>3</th>\n",
       "      <td>2.278373</td>\n",
       "      <td>1.860058</td>\n",
       "      <td>0.003989</td>\n",
       "      <td>0.008976</td>\n",
       "    </tr>\n",
       "    <tr>\n",
       "      <th>4</th>\n",
       "      <td>2.190523</td>\n",
       "      <td>1.812931</td>\n",
       "      <td>0.006979</td>\n",
       "      <td>0.004987</td>\n",
       "    </tr>\n",
       "  </tbody>\n",
       "</table>\n",
       "</div>"
      ],
      "text/plain": [
       "   test_rmse  test_mae  fit_time  test_time\n",
       "0   2.108197  1.722434  0.004987   0.012964\n",
       "1   2.094392  1.694671  0.004998   0.006966\n",
       "2   2.222896  1.869724  0.005978   0.007979\n",
       "3   2.278373  1.860058  0.003989   0.008976\n",
       "4   2.190523  1.812931  0.006979   0.004987"
      ]
     },
     "execution_count": 67,
     "metadata": {},
     "output_type": "execute_result"
    }
   ],
   "source": [
    "pd.DataFrame(cv_results)"
   ]
  },
  {
   "cell_type": "code",
   "execution_count": 68,
   "metadata": {
    "colab": {
     "base_uri": "https://localhost:8080/"
    },
    "id": "cAjJQzPcizQY",
    "outputId": "e3ce06d2-1470-4a98-db52-64a8da1acbd6"
   },
   "outputs": [
    {
     "name": "stdout",
     "output_type": "stream",
     "text": [
      "Computing the pearson similarity matrix...\n",
      "Done computing similarity matrix.\n",
      "RMSE: 2.2220\n",
      "MAE:  1.8334\n"
     ]
    },
    {
     "data": {
      "text/plain": [
       "(2.222049688022127, 1.8334172656381147)"
      ]
     },
     "execution_count": 68,
     "metadata": {},
     "output_type": "execute_result"
    }
   ],
   "source": [
    "model.fit(data_train)\n",
    "pred = model.test(data_test)\n",
    "rmse(pred), mae(pred)"
   ]
  },
  {
   "cell_type": "code",
   "execution_count": 69,
   "metadata": {
    "id": "scaEvgVkizQY"
   },
   "outputs": [],
   "source": [
    "rmse3 = cv_results[\"test_rmse\"].mean()\n",
    "mae3 = cv_results[\"test_mae\"].mean()\n",
    "accuracy = update_accuracy(accuracy, \"pearson\", rmse3, mae3)"
   ]
  },
  {
   "cell_type": "markdown",
   "metadata": {
    "id": "l22l2RCpizQZ"
   },
   "source": [
    "#### Surprise KNNWithMeans con Similarità Coseno"
   ]
  },
  {
   "cell_type": "markdown",
   "metadata": {
    "id": "3nUwINMbizQZ"
   },
   "source": [
    "Si ripete l'analisi precedente con similarità coseno con medie."
   ]
  },
  {
   "cell_type": "code",
   "execution_count": 70,
   "metadata": {
    "colab": {
     "base_uri": "https://localhost:8080/"
    },
    "id": "AOcZi-zgizQa",
    "outputId": "93e117a5-1bf7-45ec-cd08-7392b75a951a"
   },
   "outputs": [
    {
     "name": "stdout",
     "output_type": "stream",
     "text": [
      "Computing the cosine similarity matrix...\n",
      "Done computing similarity matrix.\n",
      "Computing the cosine similarity matrix...\n",
      "Done computing similarity matrix.\n",
      "Computing the cosine similarity matrix...\n",
      "Done computing similarity matrix.\n",
      "Computing the cosine similarity matrix...\n",
      "Done computing similarity matrix.\n",
      "Computing the cosine similarity matrix...\n",
      "Done computing similarity matrix.\n"
     ]
    }
   ],
   "source": [
    "from surprise import KNNWithMeans\n",
    "from surprise.accuracy import rmse, mae\n",
    "model = KNNWithMeans(k=10, sim_options={\"name\": \"cosine\"})\n",
    "cv_results = cross_validate(model, data, cv=kf)"
   ]
  },
  {
   "cell_type": "code",
   "execution_count": 71,
   "metadata": {
    "colab": {
     "base_uri": "https://localhost:8080/"
    },
    "id": "HLMMEcTSizQa",
    "outputId": "ad163802-b01b-4f15-e282-0db442209b2e"
   },
   "outputs": [
    {
     "name": "stdout",
     "output_type": "stream",
     "text": [
      "Computing the cosine similarity matrix...\n",
      "Done computing similarity matrix.\n",
      "RMSE: 2.2527\n",
      "MAE:  1.8513\n"
     ]
    },
    {
     "data": {
      "text/plain": [
       "(2.2526520775507883, 1.8513406850633651)"
      ]
     },
     "execution_count": 71,
     "metadata": {},
     "output_type": "execute_result"
    }
   ],
   "source": [
    "model.fit(data_train)\n",
    "pred = model.test(data_test)\n",
    "rmse(pred), mae(pred)"
   ]
  },
  {
   "cell_type": "code",
   "execution_count": 72,
   "metadata": {
    "colab": {
     "base_uri": "https://localhost:8080/",
     "height": 204
    },
    "id": "aXCI5-i9izQc",
    "outputId": "b50ff0db-52a4-4f26-cb7f-324beb304d0e"
   },
   "outputs": [
    {
     "data": {
      "text/html": [
       "<div>\n",
       "<style scoped>\n",
       "    .dataframe tbody tr th:only-of-type {\n",
       "        vertical-align: middle;\n",
       "    }\n",
       "\n",
       "    .dataframe tbody tr th {\n",
       "        vertical-align: top;\n",
       "    }\n",
       "\n",
       "    .dataframe thead th {\n",
       "        text-align: right;\n",
       "    }\n",
       "</style>\n",
       "<table border=\"1\" class=\"dataframe\">\n",
       "  <thead>\n",
       "    <tr style=\"text-align: right;\">\n",
       "      <th></th>\n",
       "      <th>test_rmse</th>\n",
       "      <th>test_mae</th>\n",
       "      <th>fit_time</th>\n",
       "      <th>test_time</th>\n",
       "    </tr>\n",
       "  </thead>\n",
       "  <tbody>\n",
       "    <tr>\n",
       "      <th>0</th>\n",
       "      <td>2.164688</td>\n",
       "      <td>1.757042</td>\n",
       "      <td>0.010973</td>\n",
       "      <td>0.009970</td>\n",
       "    </tr>\n",
       "    <tr>\n",
       "      <th>1</th>\n",
       "      <td>2.130822</td>\n",
       "      <td>1.708233</td>\n",
       "      <td>0.004987</td>\n",
       "      <td>0.003990</td>\n",
       "    </tr>\n",
       "    <tr>\n",
       "      <th>2</th>\n",
       "      <td>2.271511</td>\n",
       "      <td>1.900351</td>\n",
       "      <td>0.004987</td>\n",
       "      <td>0.005985</td>\n",
       "    </tr>\n",
       "    <tr>\n",
       "      <th>3</th>\n",
       "      <td>2.353164</td>\n",
       "      <td>1.908550</td>\n",
       "      <td>0.005983</td>\n",
       "      <td>0.002992</td>\n",
       "    </tr>\n",
       "    <tr>\n",
       "      <th>4</th>\n",
       "      <td>2.235186</td>\n",
       "      <td>1.826455</td>\n",
       "      <td>0.007979</td>\n",
       "      <td>0.006981</td>\n",
       "    </tr>\n",
       "  </tbody>\n",
       "</table>\n",
       "</div>"
      ],
      "text/plain": [
       "   test_rmse  test_mae  fit_time  test_time\n",
       "0   2.164688  1.757042  0.010973   0.009970\n",
       "1   2.130822  1.708233  0.004987   0.003990\n",
       "2   2.271511  1.900351  0.004987   0.005985\n",
       "3   2.353164  1.908550  0.005983   0.002992\n",
       "4   2.235186  1.826455  0.007979   0.006981"
      ]
     },
     "execution_count": 72,
     "metadata": {},
     "output_type": "execute_result"
    }
   ],
   "source": [
    "pd.DataFrame(cv_results)"
   ]
  },
  {
   "cell_type": "code",
   "execution_count": 73,
   "metadata": {
    "id": "EtJvsPo9izQd"
   },
   "outputs": [],
   "source": [
    "rmse4 = cv_results[\"test_rmse\"].mean()\n",
    "mae4 = cv_results[\"test_mae\"].mean()\n",
    "accuracy = update_accuracy(accuracy, \"means\", rmse4, mae4)"
   ]
  },
  {
   "cell_type": "markdown",
   "metadata": {
    "id": "jUxPnf0iizQe"
   },
   "source": [
    "#### Surprise KNNBasic con Similarità Coseno title-based"
   ]
  },
  {
   "cell_type": "markdown",
   "metadata": {
    "id": "EwatJEikizQe"
   },
   "source": [
    "Si ripete l'analisi precedente con similarità coseno con approccio title-based."
   ]
  },
  {
   "cell_type": "code",
   "execution_count": 74,
   "metadata": {
    "colab": {
     "base_uri": "https://localhost:8080/"
    },
    "id": "hyVPQEMKizQf",
    "outputId": "695f45fb-68af-4bd2-ba37-94e02776cd49"
   },
   "outputs": [
    {
     "name": "stdout",
     "output_type": "stream",
     "text": [
      "Computing the cosine similarity matrix...\n",
      "Done computing similarity matrix.\n",
      "Computing the cosine similarity matrix...\n",
      "Done computing similarity matrix.\n",
      "Computing the cosine similarity matrix...\n",
      "Done computing similarity matrix.\n",
      "Computing the cosine similarity matrix...\n",
      "Done computing similarity matrix.\n",
      "Computing the cosine similarity matrix...\n",
      "Done computing similarity matrix.\n"
     ]
    }
   ],
   "source": [
    "from surprise import KNNBasic\n",
    "model = KNNBasic(k=10, sim_options={\"name\": \"cosine\", \"user_based\": False})\n",
    "cv_results = cross_validate(model, data, cv=kf)"
   ]
  },
  {
   "cell_type": "code",
   "execution_count": 75,
   "metadata": {
    "colab": {
     "base_uri": "https://localhost:8080/"
    },
    "id": "pzeAUq0HizQg",
    "outputId": "d8a6c80e-eec6-4d99-862b-8c76319d9b0b",
    "scrolled": true
   },
   "outputs": [
    {
     "name": "stdout",
     "output_type": "stream",
     "text": [
      "Computing the cosine similarity matrix...\n",
      "Done computing similarity matrix.\n",
      "RMSE: 2.2198\n",
      "MAE:  1.8273\n"
     ]
    },
    {
     "data": {
      "text/plain": [
       "(2.219765287375118, 1.8272591015682624)"
      ]
     },
     "execution_count": 75,
     "metadata": {},
     "output_type": "execute_result"
    }
   ],
   "source": [
    "model.fit(data_train)\n",
    "pred = model.test(data_test)\n",
    "rmse(pred), mae(pred)"
   ]
  },
  {
   "cell_type": "code",
   "execution_count": 76,
   "metadata": {
    "colab": {
     "base_uri": "https://localhost:8080/",
     "height": 204
    },
    "id": "Bm2Kqmr1izQh",
    "outputId": "87cbb8e5-509c-4d84-f4c4-42e83f58c299"
   },
   "outputs": [
    {
     "data": {
      "text/html": [
       "<div>\n",
       "<style scoped>\n",
       "    .dataframe tbody tr th:only-of-type {\n",
       "        vertical-align: middle;\n",
       "    }\n",
       "\n",
       "    .dataframe tbody tr th {\n",
       "        vertical-align: top;\n",
       "    }\n",
       "\n",
       "    .dataframe thead th {\n",
       "        text-align: right;\n",
       "    }\n",
       "</style>\n",
       "<table border=\"1\" class=\"dataframe\">\n",
       "  <thead>\n",
       "    <tr style=\"text-align: right;\">\n",
       "      <th></th>\n",
       "      <th>test_rmse</th>\n",
       "      <th>test_mae</th>\n",
       "      <th>fit_time</th>\n",
       "      <th>test_time</th>\n",
       "    </tr>\n",
       "  </thead>\n",
       "  <tbody>\n",
       "    <tr>\n",
       "      <th>0</th>\n",
       "      <td>2.186788</td>\n",
       "      <td>1.793012</td>\n",
       "      <td>0.487679</td>\n",
       "      <td>0.017954</td>\n",
       "    </tr>\n",
       "    <tr>\n",
       "      <th>1</th>\n",
       "      <td>2.041933</td>\n",
       "      <td>1.662680</td>\n",
       "      <td>0.500824</td>\n",
       "      <td>0.021942</td>\n",
       "    </tr>\n",
       "    <tr>\n",
       "      <th>2</th>\n",
       "      <td>2.249103</td>\n",
       "      <td>1.894243</td>\n",
       "      <td>0.508638</td>\n",
       "      <td>0.022938</td>\n",
       "    </tr>\n",
       "    <tr>\n",
       "      <th>3</th>\n",
       "      <td>2.280825</td>\n",
       "      <td>1.859789</td>\n",
       "      <td>0.611365</td>\n",
       "      <td>0.018949</td>\n",
       "    </tr>\n",
       "    <tr>\n",
       "      <th>4</th>\n",
       "      <td>2.163438</td>\n",
       "      <td>1.785451</td>\n",
       "      <td>0.567483</td>\n",
       "      <td>0.024935</td>\n",
       "    </tr>\n",
       "  </tbody>\n",
       "</table>\n",
       "</div>"
      ],
      "text/plain": [
       "   test_rmse  test_mae  fit_time  test_time\n",
       "0   2.186788  1.793012  0.487679   0.017954\n",
       "1   2.041933  1.662680  0.500824   0.021942\n",
       "2   2.249103  1.894243  0.508638   0.022938\n",
       "3   2.280825  1.859789  0.611365   0.018949\n",
       "4   2.163438  1.785451  0.567483   0.024935"
      ]
     },
     "execution_count": 76,
     "metadata": {},
     "output_type": "execute_result"
    }
   ],
   "source": [
    "pd.DataFrame(cv_results)"
   ]
  },
  {
   "cell_type": "code",
   "execution_count": 77,
   "metadata": {
    "id": "Rldz62TVizQh"
   },
   "outputs": [],
   "source": [
    "rmse5 = cv_results[\"test_rmse\"].mean()\n",
    "mae5 = cv_results[\"test_mae\"].mean()\n",
    "accuracy = update_accuracy(accuracy, \"title-based\", rmse5, mae5)"
   ]
  },
  {
   "cell_type": "markdown",
   "metadata": {
    "id": "CaLRQop6izQi"
   },
   "source": [
    "#### Surprise con NormalPredictor"
   ]
  },
  {
   "cell_type": "code",
   "execution_count": 78,
   "metadata": {
    "id": "nzbItDgeizQi"
   },
   "outputs": [],
   "source": [
    "from surprise import NormalPredictor\n",
    "model = NormalPredictor()\n",
    "cv_results = cross_validate(model, data, cv=kf)"
   ]
  },
  {
   "cell_type": "code",
   "execution_count": 79,
   "metadata": {
    "colab": {
     "base_uri": "https://localhost:8080/"
    },
    "id": "Bv4_ygPzizQj",
    "outputId": "b44fce76-2c85-4dc9-af32-b06e33fea807"
   },
   "outputs": [
    {
     "name": "stdout",
     "output_type": "stream",
     "text": [
      "RMSE: 3.0129\n",
      "MAE:  2.4057\n"
     ]
    },
    {
     "data": {
      "text/plain": [
       "(3.012875941184394, 2.4056701210079003)"
      ]
     },
     "execution_count": 79,
     "metadata": {},
     "output_type": "execute_result"
    }
   ],
   "source": [
    "model.fit(data_train)\n",
    "pred = model.test(data_test)\n",
    "rmse(pred), mae(pred)"
   ]
  },
  {
   "cell_type": "code",
   "execution_count": 80,
   "metadata": {
    "colab": {
     "base_uri": "https://localhost:8080/",
     "height": 204
    },
    "id": "YhH2s3u3izQj",
    "outputId": "5ccb5f24-120b-4885-89ff-0ddd0f4e1c36"
   },
   "outputs": [
    {
     "data": {
      "text/html": [
       "<div>\n",
       "<style scoped>\n",
       "    .dataframe tbody tr th:only-of-type {\n",
       "        vertical-align: middle;\n",
       "    }\n",
       "\n",
       "    .dataframe tbody tr th {\n",
       "        vertical-align: top;\n",
       "    }\n",
       "\n",
       "    .dataframe thead th {\n",
       "        text-align: right;\n",
       "    }\n",
       "</style>\n",
       "<table border=\"1\" class=\"dataframe\">\n",
       "  <thead>\n",
       "    <tr style=\"text-align: right;\">\n",
       "      <th></th>\n",
       "      <th>test_rmse</th>\n",
       "      <th>test_mae</th>\n",
       "      <th>fit_time</th>\n",
       "      <th>test_time</th>\n",
       "    </tr>\n",
       "  </thead>\n",
       "  <tbody>\n",
       "    <tr>\n",
       "      <th>0</th>\n",
       "      <td>2.918083</td>\n",
       "      <td>2.315362</td>\n",
       "      <td>0.003989</td>\n",
       "      <td>0.005985</td>\n",
       "    </tr>\n",
       "    <tr>\n",
       "      <th>1</th>\n",
       "      <td>2.919248</td>\n",
       "      <td>2.299269</td>\n",
       "      <td>0.004985</td>\n",
       "      <td>0.007978</td>\n",
       "    </tr>\n",
       "    <tr>\n",
       "      <th>2</th>\n",
       "      <td>3.046033</td>\n",
       "      <td>2.489999</td>\n",
       "      <td>0.002989</td>\n",
       "      <td>0.004988</td>\n",
       "    </tr>\n",
       "    <tr>\n",
       "      <th>3</th>\n",
       "      <td>3.071861</td>\n",
       "      <td>2.458990</td>\n",
       "      <td>0.002991</td>\n",
       "      <td>0.003990</td>\n",
       "    </tr>\n",
       "    <tr>\n",
       "      <th>4</th>\n",
       "      <td>3.052694</td>\n",
       "      <td>2.466039</td>\n",
       "      <td>0.004987</td>\n",
       "      <td>0.006987</td>\n",
       "    </tr>\n",
       "  </tbody>\n",
       "</table>\n",
       "</div>"
      ],
      "text/plain": [
       "   test_rmse  test_mae  fit_time  test_time\n",
       "0   2.918083  2.315362  0.003989   0.005985\n",
       "1   2.919248  2.299269  0.004985   0.007978\n",
       "2   3.046033  2.489999  0.002989   0.004988\n",
       "3   3.071861  2.458990  0.002991   0.003990\n",
       "4   3.052694  2.466039  0.004987   0.006987"
      ]
     },
     "execution_count": 80,
     "metadata": {},
     "output_type": "execute_result"
    }
   ],
   "source": [
    "pd.DataFrame(cv_results)"
   ]
  },
  {
   "cell_type": "code",
   "execution_count": 81,
   "metadata": {
    "id": "yiUFWLaMizQk"
   },
   "outputs": [],
   "source": [
    "rmse6 = cv_results[\"test_rmse\"].mean()\n",
    "mae6 = cv_results[\"test_mae\"].mean()\n",
    "accuracy = update_accuracy(accuracy, \"normal\", rmse6, mae6)"
   ]
  },
  {
   "cell_type": "markdown",
   "metadata": {
    "id": "9tSB07L7izQk"
   },
   "source": [
    "#### Surprise con SVD"
   ]
  },
  {
   "cell_type": "markdown",
   "metadata": {
    "id": "HBl3ZqkwizQl"
   },
   "source": [
    "SVD è una libreria apposita per eseguire un'analisi di recommendation casuale"
   ]
  },
  {
   "cell_type": "code",
   "execution_count": 82,
   "metadata": {
    "id": "iqSzXd3vizQl"
   },
   "outputs": [],
   "source": [
    "from surprise import SVD\n",
    "model = SVD(n_factors=5, random_state=42)\n",
    "cv_results = cross_validate(model, data, cv=kf)"
   ]
  },
  {
   "cell_type": "code",
   "execution_count": 83,
   "metadata": {
    "colab": {
     "base_uri": "https://localhost:8080/"
    },
    "id": "Dx8dDKpCizQm",
    "outputId": "66f93d17-f97b-4e32-92c8-8262633df4d1"
   },
   "outputs": [
    {
     "name": "stdout",
     "output_type": "stream",
     "text": [
      "RMSE: 2.1727\n",
      "MAE:  1.7872\n"
     ]
    },
    {
     "data": {
      "text/plain": [
       "(2.1726940756892485, 1.787161862653741)"
      ]
     },
     "execution_count": 83,
     "metadata": {},
     "output_type": "execute_result"
    }
   ],
   "source": [
    "model.fit(data_train)\n",
    "pred = model.test(data_test)\n",
    "rmse(pred), mae(pred)"
   ]
  },
  {
   "cell_type": "code",
   "execution_count": 84,
   "metadata": {
    "colab": {
     "base_uri": "https://localhost:8080/",
     "height": 204
    },
    "id": "i6CJokAEizQm",
    "outputId": "d7ee6e5f-2953-4d4d-d25c-7ca8e42cbcd9"
   },
   "outputs": [
    {
     "data": {
      "text/html": [
       "<div>\n",
       "<style scoped>\n",
       "    .dataframe tbody tr th:only-of-type {\n",
       "        vertical-align: middle;\n",
       "    }\n",
       "\n",
       "    .dataframe tbody tr th {\n",
       "        vertical-align: top;\n",
       "    }\n",
       "\n",
       "    .dataframe thead th {\n",
       "        text-align: right;\n",
       "    }\n",
       "</style>\n",
       "<table border=\"1\" class=\"dataframe\">\n",
       "  <thead>\n",
       "    <tr style=\"text-align: right;\">\n",
       "      <th></th>\n",
       "      <th>test_rmse</th>\n",
       "      <th>test_mae</th>\n",
       "      <th>fit_time</th>\n",
       "      <th>test_time</th>\n",
       "    </tr>\n",
       "  </thead>\n",
       "  <tbody>\n",
       "    <tr>\n",
       "      <th>0</th>\n",
       "      <td>2.090797</td>\n",
       "      <td>1.702945</td>\n",
       "      <td>0.063831</td>\n",
       "      <td>0.008978</td>\n",
       "    </tr>\n",
       "    <tr>\n",
       "      <th>1</th>\n",
       "      <td>2.029881</td>\n",
       "      <td>1.637338</td>\n",
       "      <td>0.067820</td>\n",
       "      <td>0.029920</td>\n",
       "    </tr>\n",
       "    <tr>\n",
       "      <th>2</th>\n",
       "      <td>2.178510</td>\n",
       "      <td>1.812346</td>\n",
       "      <td>0.063828</td>\n",
       "      <td>0.004986</td>\n",
       "    </tr>\n",
       "    <tr>\n",
       "      <th>3</th>\n",
       "      <td>2.221496</td>\n",
       "      <td>1.794470</td>\n",
       "      <td>0.039893</td>\n",
       "      <td>0.003989</td>\n",
       "    </tr>\n",
       "    <tr>\n",
       "      <th>4</th>\n",
       "      <td>2.106561</td>\n",
       "      <td>1.739308</td>\n",
       "      <td>0.062833</td>\n",
       "      <td>0.005983</td>\n",
       "    </tr>\n",
       "  </tbody>\n",
       "</table>\n",
       "</div>"
      ],
      "text/plain": [
       "   test_rmse  test_mae  fit_time  test_time\n",
       "0   2.090797  1.702945  0.063831   0.008978\n",
       "1   2.029881  1.637338  0.067820   0.029920\n",
       "2   2.178510  1.812346  0.063828   0.004986\n",
       "3   2.221496  1.794470  0.039893   0.003989\n",
       "4   2.106561  1.739308  0.062833   0.005983"
      ]
     },
     "execution_count": 84,
     "metadata": {},
     "output_type": "execute_result"
    }
   ],
   "source": [
    "pd.DataFrame(cv_results)"
   ]
  },
  {
   "cell_type": "code",
   "execution_count": 85,
   "metadata": {
    "id": "TprzjV_mizQn"
   },
   "outputs": [],
   "source": [
    "rmse7 = cv_results[\"test_rmse\"].mean()\n",
    "mae7 = cv_results[\"test_mae\"].mean()\n",
    "accuracy = update_accuracy(accuracy, \"SVD\", rmse7, mae7)"
   ]
  },
  {
   "cell_type": "markdown",
   "metadata": {
    "id": "MaZ3shIbizQo"
   },
   "source": [
    "## Valutazione dei modelli"
   ]
  },
  {
   "cell_type": "markdown",
   "metadata": {
    "id": "KjTVm-sUizQo"
   },
   "source": [
    "Grafico di confronto trai i valori RMSE e MAE riportati dai modelli di recommendation"
   ]
  },
  {
   "cell_type": "code",
   "execution_count": 86,
   "metadata": {
    "id": "vdLYvmccizQo"
   },
   "outputs": [],
   "source": [
    "accuracy.set_index(\"model\", inplace=True)"
   ]
  },
  {
   "cell_type": "code",
   "execution_count": 87,
   "metadata": {
    "colab": {
     "base_uri": "https://localhost:8080/",
     "height": 377
    },
    "id": "6t82JUwxizQp",
    "outputId": "621a9eac-fa0c-45bf-e806-17ce53cc6624"
   },
   "outputs": [
    {
     "data": {
      "image/png": "[encoded data removed]",
      "text/plain": [
       "<Figure size 720x360 with 1 Axes>"
      ]
     },
     "metadata": {
      "needs_background": "light"
     },
     "output_type": "display_data"
    }
   ],
   "source": [
    "accuracy.sort_values(\"RMSE\").plot.bar(figsize=(10,5));"
   ]
  },
  {
   "cell_type": "code",
   "execution_count": 88,
   "metadata": {
    "colab": {
     "base_uri": "https://localhost:8080/",
     "height": 111
    },
    "id": "iQHKV_9fizQp",
    "outputId": "cbf53fe9-5af3-46a0-9f82-fc3dbfa5715f"
   },
   "outputs": [
    {
     "data": {
      "text/html": [
       "<div>\n",
       "<style scoped>\n",
       "    .dataframe tbody tr th:only-of-type {\n",
       "        vertical-align: middle;\n",
       "    }\n",
       "\n",
       "    .dataframe tbody tr th {\n",
       "        vertical-align: top;\n",
       "    }\n",
       "\n",
       "    .dataframe thead th {\n",
       "        text-align: right;\n",
       "    }\n",
       "</style>\n",
       "<table border=\"1\" class=\"dataframe\">\n",
       "  <thead>\n",
       "    <tr style=\"text-align: right;\">\n",
       "      <th>model</th>\n",
       "      <th>SVD</th>\n",
       "      <th>pearson</th>\n",
       "      <th>title-based</th>\n",
       "      <th>cosine</th>\n",
       "      <th>means</th>\n",
       "      <th>cf</th>\n",
       "      <th>normal</th>\n",
       "    </tr>\n",
       "  </thead>\n",
       "  <tbody>\n",
       "    <tr>\n",
       "      <th>RMSE</th>\n",
       "      <td>2.125449</td>\n",
       "      <td>2.178876</td>\n",
       "      <td>2.184417</td>\n",
       "      <td>2.207117</td>\n",
       "      <td>2.231074</td>\n",
       "      <td>2.440524</td>\n",
       "      <td>3.001584</td>\n",
       "    </tr>\n",
       "    <tr>\n",
       "      <th>MAE</th>\n",
       "      <td>1.737281</td>\n",
       "      <td>1.791964</td>\n",
       "      <td>1.799035</td>\n",
       "      <td>1.812112</td>\n",
       "      <td>1.820126</td>\n",
       "      <td>1.917943</td>\n",
       "      <td>2.405932</td>\n",
       "    </tr>\n",
       "  </tbody>\n",
       "</table>\n",
       "</div>"
      ],
      "text/plain": [
       "model       SVD   pearson  title-based    cosine     means        cf    normal\n",
       "RMSE   2.125449  2.178876     2.184417  2.207117  2.231074  2.440524  3.001584\n",
       "MAE    1.737281  1.791964     1.799035  1.812112  1.820126  1.917943  2.405932"
      ]
     },
     "execution_count": 88,
     "metadata": {},
     "output_type": "execute_result"
    }
   ],
   "source": [
    "accuracy.sort_values(\"RMSE\").T"
   ]
  },
  {
   "cell_type": "markdown",
   "metadata": {
    "id": "zssOucYfizQv"
   },
   "source": [
    "Dei modelli studiati quello che risulta con un'accuratezza migliore in termini di RMSE e MAE è SVD."
   ]
  },
  {
   "cell_type": "markdown",
   "metadata": {
    "id": "wMDGrLmBizQv"
   },
   "source": [
    "## Ricerca del modello migliore"
   ]
  },
  {
   "cell_type": "markdown",
   "metadata": {
    "id": "gjA0XqwrT2_A"
   },
   "source": [
    "### Grid Search"
   ]
  },
  {
   "cell_type": "markdown",
   "metadata": {
    "id": "jUVXzOihizQw"
   },
   "source": [
    "Grid Search si utilizza per individuare i parametri migliori per il modello in questione."
   ]
  },
  {
   "cell_type": "code",
   "execution_count": 89,
   "metadata": {
    "id": "B2URQimGizQw"
   },
   "outputs": [],
   "source": [
    "from surprise.model_selection import GridSearchCV"
   ]
  },
  {
   "cell_type": "code",
   "execution_count": 90,
   "metadata": {
    "id": "a4Y9aXonizQx"
   },
   "outputs": [],
   "source": [
    "grid = {\n",
    "    \"n_factors\": list(range(5,50,5)),\n",
    "    'n_epochs':[20,30],  \n",
    "    'random_state': [42],\n",
    "    'lr_all':[0.01],\n",
    "    'reg_all':[0.1]\n",
    "}"
   ]
  },
  {
   "cell_type": "code",
   "execution_count": 91,
   "metadata": {
    "id": "DU-VZHK6izQx"
   },
   "outputs": [],
   "source": [
    "gs = GridSearchCV(SVD, grid, cv=kf, refit=True)\n",
    "gs.fit(data)"
   ]
  },
  {
   "cell_type": "code",
   "execution_count": 92,
   "metadata": {
    "colab": {
     "base_uri": "https://localhost:8080/"
    },
    "id": "52yJ2qg4izQy",
    "outputId": "645c65e4-f91a-4ffb-b730-96cb8bfa95be"
   },
   "outputs": [
    {
     "data": {
      "text/plain": [
       "{'rmse': {'n_factors': 20,\n",
       "  'n_epochs': 20,\n",
       "  'random_state': 42,\n",
       "  'lr_all': 0.01,\n",
       "  'reg_all': 0.1},\n",
       " 'mae': {'n_factors': 15,\n",
       "  'n_epochs': 30,\n",
       "  'random_state': 42,\n",
       "  'lr_all': 0.01,\n",
       "  'reg_all': 0.1}}"
      ]
     },
     "execution_count": 92,
     "metadata": {},
     "output_type": "execute_result"
    }
   ],
   "source": [
    "gs.best_params"
   ]
  },
  {
   "cell_type": "code",
   "execution_count": 93,
   "metadata": {
    "colab": {
     "base_uri": "https://localhost:8080/",
     "height": 1000
    },
    "id": "QMzSo0WBizQy",
    "outputId": "1a11ca5c-ca18-42e2-80a6-c39c565364e2"
   },
   "outputs": [
    {
     "data": {
      "text/html": [
       "<div>\n",
       "<style scoped>\n",
       "    .dataframe tbody tr th:only-of-type {\n",
       "        vertical-align: middle;\n",
       "    }\n",
       "\n",
       "    .dataframe tbody tr th {\n",
       "        vertical-align: top;\n",
       "    }\n",
       "\n",
       "    .dataframe thead th {\n",
       "        text-align: right;\n",
       "    }\n",
       "</style>\n",
       "<table border=\"1\" class=\"dataframe\">\n",
       "  <thead>\n",
       "    <tr style=\"text-align: right;\">\n",
       "      <th></th>\n",
       "      <th>split0_test_rmse</th>\n",
       "      <th>split1_test_rmse</th>\n",
       "      <th>split2_test_rmse</th>\n",
       "      <th>split3_test_rmse</th>\n",
       "      <th>split4_test_rmse</th>\n",
       "      <th>mean_test_rmse</th>\n",
       "      <th>std_test_rmse</th>\n",
       "      <th>rank_test_rmse</th>\n",
       "      <th>split0_test_mae</th>\n",
       "      <th>split1_test_mae</th>\n",
       "      <th>...</th>\n",
       "      <th>mean_fit_time</th>\n",
       "      <th>std_fit_time</th>\n",
       "      <th>mean_test_time</th>\n",
       "      <th>std_test_time</th>\n",
       "      <th>params</th>\n",
       "      <th>param_n_factors</th>\n",
       "      <th>param_n_epochs</th>\n",
       "      <th>param_random_state</th>\n",
       "      <th>param_lr_all</th>\n",
       "      <th>param_reg_all</th>\n",
       "    </tr>\n",
       "  </thead>\n",
       "  <tbody>\n",
       "    <tr>\n",
       "      <th>6</th>\n",
       "      <td>2.079381</td>\n",
       "      <td>2.036058</td>\n",
       "      <td>2.184443</td>\n",
       "      <td>2.213255</td>\n",
       "      <td>2.098345</td>\n",
       "      <td>2.122296</td>\n",
       "      <td>0.066315</td>\n",
       "      <td>1</td>\n",
       "      <td>1.686740</td>\n",
       "      <td>1.636938</td>\n",
       "      <td>...</td>\n",
       "      <td>0.063829</td>\n",
       "      <td>0.015565</td>\n",
       "      <td>0.003790</td>\n",
       "      <td>0.001323</td>\n",
       "      <td>{'n_factors': 20, 'n_epochs': 20, 'random_stat...</td>\n",
       "      <td>20</td>\n",
       "      <td>20</td>\n",
       "      <td>42</td>\n",
       "      <td>0.01</td>\n",
       "      <td>0.1</td>\n",
       "    </tr>\n",
       "    <tr>\n",
       "      <th>4</th>\n",
       "      <td>2.075452</td>\n",
       "      <td>2.036778</td>\n",
       "      <td>2.181014</td>\n",
       "      <td>2.221762</td>\n",
       "      <td>2.097551</td>\n",
       "      <td>2.122512</td>\n",
       "      <td>0.068500</td>\n",
       "      <td>2</td>\n",
       "      <td>1.681745</td>\n",
       "      <td>1.635730</td>\n",
       "      <td>...</td>\n",
       "      <td>0.073006</td>\n",
       "      <td>0.027428</td>\n",
       "      <td>0.004387</td>\n",
       "      <td>0.001490</td>\n",
       "      <td>{'n_factors': 15, 'n_epochs': 20, 'random_stat...</td>\n",
       "      <td>15</td>\n",
       "      <td>20</td>\n",
       "      <td>42</td>\n",
       "      <td>0.01</td>\n",
       "      <td>0.1</td>\n",
       "    </tr>\n",
       "    <tr>\n",
       "      <th>16</th>\n",
       "      <td>2.085567</td>\n",
       "      <td>2.035662</td>\n",
       "      <td>2.183650</td>\n",
       "      <td>2.214156</td>\n",
       "      <td>2.098188</td>\n",
       "      <td>2.123445</td>\n",
       "      <td>0.065775</td>\n",
       "      <td>3</td>\n",
       "      <td>1.689052</td>\n",
       "      <td>1.641675</td>\n",
       "      <td>...</td>\n",
       "      <td>0.090159</td>\n",
       "      <td>0.004829</td>\n",
       "      <td>0.003392</td>\n",
       "      <td>0.000489</td>\n",
       "      <td>{'n_factors': 45, 'n_epochs': 20, 'random_stat...</td>\n",
       "      <td>45</td>\n",
       "      <td>20</td>\n",
       "      <td>42</td>\n",
       "      <td>0.01</td>\n",
       "      <td>0.1</td>\n",
       "    </tr>\n",
       "    <tr>\n",
       "      <th>10</th>\n",
       "      <td>2.082375</td>\n",
       "      <td>2.034160</td>\n",
       "      <td>2.184600</td>\n",
       "      <td>2.215683</td>\n",
       "      <td>2.100431</td>\n",
       "      <td>2.123450</td>\n",
       "      <td>0.066987</td>\n",
       "      <td>4</td>\n",
       "      <td>1.690768</td>\n",
       "      <td>1.637146</td>\n",
       "      <td>...</td>\n",
       "      <td>0.075598</td>\n",
       "      <td>0.004567</td>\n",
       "      <td>0.004389</td>\n",
       "      <td>0.000488</td>\n",
       "      <td>{'n_factors': 30, 'n_epochs': 20, 'random_stat...</td>\n",
       "      <td>30</td>\n",
       "      <td>20</td>\n",
       "      <td>42</td>\n",
       "      <td>0.01</td>\n",
       "      <td>0.1</td>\n",
       "    </tr>\n",
       "    <tr>\n",
       "      <th>7</th>\n",
       "      <td>2.078122</td>\n",
       "      <td>2.042525</td>\n",
       "      <td>2.190133</td>\n",
       "      <td>2.211964</td>\n",
       "      <td>2.098619</td>\n",
       "      <td>2.124273</td>\n",
       "      <td>0.065571</td>\n",
       "      <td>5</td>\n",
       "      <td>1.683163</td>\n",
       "      <td>1.641257</td>\n",
       "      <td>...</td>\n",
       "      <td>0.103523</td>\n",
       "      <td>0.021141</td>\n",
       "      <td>0.004588</td>\n",
       "      <td>0.001620</td>\n",
       "      <td>{'n_factors': 20, 'n_epochs': 30, 'random_stat...</td>\n",
       "      <td>20</td>\n",
       "      <td>30</td>\n",
       "      <td>42</td>\n",
       "      <td>0.01</td>\n",
       "      <td>0.1</td>\n",
       "    </tr>\n",
       "    <tr>\n",
       "      <th>17</th>\n",
       "      <td>2.084146</td>\n",
       "      <td>2.037313</td>\n",
       "      <td>2.187406</td>\n",
       "      <td>2.212599</td>\n",
       "      <td>2.100254</td>\n",
       "      <td>2.124343</td>\n",
       "      <td>0.065630</td>\n",
       "      <td>6</td>\n",
       "      <td>1.683664</td>\n",
       "      <td>1.643567</td>\n",
       "      <td>...</td>\n",
       "      <td>0.129652</td>\n",
       "      <td>0.008626</td>\n",
       "      <td>0.003591</td>\n",
       "      <td>0.001620</td>\n",
       "      <td>{'n_factors': 45, 'n_epochs': 30, 'random_stat...</td>\n",
       "      <td>45</td>\n",
       "      <td>30</td>\n",
       "      <td>42</td>\n",
       "      <td>0.01</td>\n",
       "      <td>0.1</td>\n",
       "    </tr>\n",
       "    <tr>\n",
       "      <th>5</th>\n",
       "      <td>2.070351</td>\n",
       "      <td>2.042012</td>\n",
       "      <td>2.185808</td>\n",
       "      <td>2.223534</td>\n",
       "      <td>2.100310</td>\n",
       "      <td>2.124403</td>\n",
       "      <td>0.069120</td>\n",
       "      <td>7</td>\n",
       "      <td>1.674849</td>\n",
       "      <td>1.639416</td>\n",
       "      <td>...</td>\n",
       "      <td>0.098137</td>\n",
       "      <td>0.022225</td>\n",
       "      <td>0.005985</td>\n",
       "      <td>0.002186</td>\n",
       "      <td>{'n_factors': 15, 'n_epochs': 30, 'random_stat...</td>\n",
       "      <td>15</td>\n",
       "      <td>30</td>\n",
       "      <td>42</td>\n",
       "      <td>0.01</td>\n",
       "      <td>0.1</td>\n",
       "    </tr>\n",
       "    <tr>\n",
       "      <th>11</th>\n",
       "      <td>2.081852</td>\n",
       "      <td>2.036212</td>\n",
       "      <td>2.188242</td>\n",
       "      <td>2.215775</td>\n",
       "      <td>2.102617</td>\n",
       "      <td>2.124940</td>\n",
       "      <td>0.067061</td>\n",
       "      <td>8</td>\n",
       "      <td>1.688963</td>\n",
       "      <td>1.638657</td>\n",
       "      <td>...</td>\n",
       "      <td>0.107113</td>\n",
       "      <td>0.006693</td>\n",
       "      <td>0.002793</td>\n",
       "      <td>0.001163</td>\n",
       "      <td>{'n_factors': 30, 'n_epochs': 30, 'random_stat...</td>\n",
       "      <td>30</td>\n",
       "      <td>30</td>\n",
       "      <td>42</td>\n",
       "      <td>0.01</td>\n",
       "      <td>0.1</td>\n",
       "    </tr>\n",
       "    <tr>\n",
       "      <th>2</th>\n",
       "      <td>2.080750</td>\n",
       "      <td>2.043560</td>\n",
       "      <td>2.184666</td>\n",
       "      <td>2.217967</td>\n",
       "      <td>2.099005</td>\n",
       "      <td>2.125190</td>\n",
       "      <td>0.065527</td>\n",
       "      <td>9</td>\n",
       "      <td>1.685760</td>\n",
       "      <td>1.648622</td>\n",
       "      <td>...</td>\n",
       "      <td>0.055647</td>\n",
       "      <td>0.013950</td>\n",
       "      <td>0.003192</td>\n",
       "      <td>0.000399</td>\n",
       "      <td>{'n_factors': 10, 'n_epochs': 20, 'random_stat...</td>\n",
       "      <td>10</td>\n",
       "      <td>20</td>\n",
       "      <td>42</td>\n",
       "      <td>0.01</td>\n",
       "      <td>0.1</td>\n",
       "    </tr>\n",
       "    <tr>\n",
       "      <th>0</th>\n",
       "      <td>2.081126</td>\n",
       "      <td>2.040861</td>\n",
       "      <td>2.182712</td>\n",
       "      <td>2.214909</td>\n",
       "      <td>2.106993</td>\n",
       "      <td>2.125320</td>\n",
       "      <td>0.064409</td>\n",
       "      <td>10</td>\n",
       "      <td>1.687592</td>\n",
       "      <td>1.641944</td>\n",
       "      <td>...</td>\n",
       "      <td>0.040292</td>\n",
       "      <td>0.005627</td>\n",
       "      <td>0.002991</td>\n",
       "      <td>0.000892</td>\n",
       "      <td>{'n_factors': 5, 'n_epochs': 20, 'random_state...</td>\n",
       "      <td>5</td>\n",
       "      <td>20</td>\n",
       "      <td>42</td>\n",
       "      <td>0.01</td>\n",
       "      <td>0.1</td>\n",
       "    </tr>\n",
       "    <tr>\n",
       "      <th>14</th>\n",
       "      <td>2.085039</td>\n",
       "      <td>2.036966</td>\n",
       "      <td>2.187834</td>\n",
       "      <td>2.222624</td>\n",
       "      <td>2.103590</td>\n",
       "      <td>2.127211</td>\n",
       "      <td>0.068205</td>\n",
       "      <td>11</td>\n",
       "      <td>1.699362</td>\n",
       "      <td>1.642245</td>\n",
       "      <td>...</td>\n",
       "      <td>0.078790</td>\n",
       "      <td>0.008104</td>\n",
       "      <td>0.003191</td>\n",
       "      <td>0.000745</td>\n",
       "      <td>{'n_factors': 40, 'n_epochs': 20, 'random_stat...</td>\n",
       "      <td>40</td>\n",
       "      <td>20</td>\n",
       "      <td>42</td>\n",
       "      <td>0.01</td>\n",
       "      <td>0.1</td>\n",
       "    </tr>\n",
       "    <tr>\n",
       "      <th>12</th>\n",
       "      <td>2.084654</td>\n",
       "      <td>2.032794</td>\n",
       "      <td>2.192688</td>\n",
       "      <td>2.220954</td>\n",
       "      <td>2.107116</td>\n",
       "      <td>2.127641</td>\n",
       "      <td>0.069575</td>\n",
       "      <td>12</td>\n",
       "      <td>1.690516</td>\n",
       "      <td>1.632868</td>\n",
       "      <td>...</td>\n",
       "      <td>0.081382</td>\n",
       "      <td>0.006070</td>\n",
       "      <td>0.004987</td>\n",
       "      <td>0.004039</td>\n",
       "      <td>{'n_factors': 35, 'n_epochs': 20, 'random_stat...</td>\n",
       "      <td>35</td>\n",
       "      <td>20</td>\n",
       "      <td>42</td>\n",
       "      <td>0.01</td>\n",
       "      <td>0.1</td>\n",
       "    </tr>\n",
       "    <tr>\n",
       "      <th>8</th>\n",
       "      <td>2.085743</td>\n",
       "      <td>2.031379</td>\n",
       "      <td>2.188362</td>\n",
       "      <td>2.220619</td>\n",
       "      <td>2.113758</td>\n",
       "      <td>2.127972</td>\n",
       "      <td>0.068623</td>\n",
       "      <td>13</td>\n",
       "      <td>1.689131</td>\n",
       "      <td>1.634074</td>\n",
       "      <td>...</td>\n",
       "      <td>0.068816</td>\n",
       "      <td>0.005352</td>\n",
       "      <td>0.004189</td>\n",
       "      <td>0.001466</td>\n",
       "      <td>{'n_factors': 25, 'n_epochs': 20, 'random_stat...</td>\n",
       "      <td>25</td>\n",
       "      <td>20</td>\n",
       "      <td>42</td>\n",
       "      <td>0.01</td>\n",
       "      <td>0.1</td>\n",
       "    </tr>\n",
       "    <tr>\n",
       "      <th>3</th>\n",
       "      <td>2.077603</td>\n",
       "      <td>2.054445</td>\n",
       "      <td>2.191375</td>\n",
       "      <td>2.219915</td>\n",
       "      <td>2.100557</td>\n",
       "      <td>2.128779</td>\n",
       "      <td>0.065061</td>\n",
       "      <td>14</td>\n",
       "      <td>1.680501</td>\n",
       "      <td>1.656171</td>\n",
       "      <td>...</td>\n",
       "      <td>0.098072</td>\n",
       "      <td>0.023498</td>\n",
       "      <td>0.005187</td>\n",
       "      <td>0.002221</td>\n",
       "      <td>{'n_factors': 10, 'n_epochs': 30, 'random_stat...</td>\n",
       "      <td>10</td>\n",
       "      <td>30</td>\n",
       "      <td>42</td>\n",
       "      <td>0.01</td>\n",
       "      <td>0.1</td>\n",
       "    </tr>\n",
       "    <tr>\n",
       "      <th>15</th>\n",
       "      <td>2.085516</td>\n",
       "      <td>2.040522</td>\n",
       "      <td>2.192995</td>\n",
       "      <td>2.223602</td>\n",
       "      <td>2.105012</td>\n",
       "      <td>2.129529</td>\n",
       "      <td>0.068320</td>\n",
       "      <td>15</td>\n",
       "      <td>1.697975</td>\n",
       "      <td>1.646263</td>\n",
       "      <td>...</td>\n",
       "      <td>0.112331</td>\n",
       "      <td>0.014592</td>\n",
       "      <td>0.003391</td>\n",
       "      <td>0.000488</td>\n",
       "      <td>{'n_factors': 40, 'n_epochs': 30, 'random_stat...</td>\n",
       "      <td>40</td>\n",
       "      <td>30</td>\n",
       "      <td>42</td>\n",
       "      <td>0.01</td>\n",
       "      <td>0.1</td>\n",
       "    </tr>\n",
       "    <tr>\n",
       "      <th>13</th>\n",
       "      <td>2.085598</td>\n",
       "      <td>2.034520</td>\n",
       "      <td>2.199322</td>\n",
       "      <td>2.220881</td>\n",
       "      <td>2.108797</td>\n",
       "      <td>2.129824</td>\n",
       "      <td>0.070146</td>\n",
       "      <td>16</td>\n",
       "      <td>1.687239</td>\n",
       "      <td>1.633814</td>\n",
       "      <td>...</td>\n",
       "      <td>0.125265</td>\n",
       "      <td>0.023198</td>\n",
       "      <td>0.003391</td>\n",
       "      <td>0.000489</td>\n",
       "      <td>{'n_factors': 35, 'n_epochs': 30, 'random_stat...</td>\n",
       "      <td>35</td>\n",
       "      <td>30</td>\n",
       "      <td>42</td>\n",
       "      <td>0.01</td>\n",
       "      <td>0.1</td>\n",
       "    </tr>\n",
       "    <tr>\n",
       "      <th>9</th>\n",
       "      <td>2.086525</td>\n",
       "      <td>2.031372</td>\n",
       "      <td>2.193558</td>\n",
       "      <td>2.222417</td>\n",
       "      <td>2.119188</td>\n",
       "      <td>2.130612</td>\n",
       "      <td>0.069733</td>\n",
       "      <td>17</td>\n",
       "      <td>1.686971</td>\n",
       "      <td>1.633627</td>\n",
       "      <td>...</td>\n",
       "      <td>0.109508</td>\n",
       "      <td>0.017700</td>\n",
       "      <td>0.004587</td>\n",
       "      <td>0.001017</td>\n",
       "      <td>{'n_factors': 25, 'n_epochs': 30, 'random_stat...</td>\n",
       "      <td>25</td>\n",
       "      <td>30</td>\n",
       "      <td>42</td>\n",
       "      <td>0.01</td>\n",
       "      <td>0.1</td>\n",
       "    </tr>\n",
       "    <tr>\n",
       "      <th>1</th>\n",
       "      <td>2.080183</td>\n",
       "      <td>2.055134</td>\n",
       "      <td>2.191870</td>\n",
       "      <td>2.216219</td>\n",
       "      <td>2.120108</td>\n",
       "      <td>2.132703</td>\n",
       "      <td>0.062305</td>\n",
       "      <td>18</td>\n",
       "      <td>1.683029</td>\n",
       "      <td>1.652039</td>\n",
       "      <td>...</td>\n",
       "      <td>0.080785</td>\n",
       "      <td>0.010113</td>\n",
       "      <td>0.006582</td>\n",
       "      <td>0.002053</td>\n",
       "      <td>{'n_factors': 5, 'n_epochs': 30, 'random_state...</td>\n",
       "      <td>5</td>\n",
       "      <td>30</td>\n",
       "      <td>42</td>\n",
       "      <td>0.01</td>\n",
       "      <td>0.1</td>\n",
       "    </tr>\n",
       "  </tbody>\n",
       "</table>\n",
       "<p>18 rows × 26 columns</p>\n",
       "</div>"
      ],
      "text/plain": [
       "    split0_test_rmse  split1_test_rmse  split2_test_rmse  split3_test_rmse  \\\n",
       "6           2.079381          2.036058          2.184443          2.213255   \n",
       "4           2.075452          2.036778          2.181014          2.221762   \n",
       "16          2.085567          2.035662          2.183650          2.214156   \n",
       "10          2.082375          2.034160          2.184600          2.215683   \n",
       "7           2.078122          2.042525          2.190133          2.211964   \n",
       "17          2.084146          2.037313          2.187406          2.212599   \n",
       "5           2.070351          2.042012          2.185808          2.223534   \n",
       "11          2.081852          2.036212          2.188242          2.215775   \n",
       "2           2.080750          2.043560          2.184666          2.217967   \n",
       "0           2.081126          2.040861          2.182712          2.214909   \n",
       "14          2.085039          2.036966          2.187834          2.222624   \n",
       "12          2.084654          2.032794          2.192688          2.220954   \n",
       "8           2.085743          2.031379          2.188362          2.220619   \n",
       "3           2.077603          2.054445          2.191375          2.219915   \n",
       "15          2.085516          2.040522          2.192995          2.223602   \n",
       "13          2.085598          2.034520          2.199322          2.220881   \n",
       "9           2.086525          2.031372          2.193558          2.222417   \n",
       "1           2.080183          2.055134          2.191870          2.216219   \n",
       "\n",
       "    split4_test_rmse  mean_test_rmse  std_test_rmse  rank_test_rmse  \\\n",
       "6           2.098345        2.122296       0.066315               1   \n",
       "4           2.097551        2.122512       0.068500               2   \n",
       "16          2.098188        2.123445       0.065775               3   \n",
       "10          2.100431        2.123450       0.066987               4   \n",
       "7           2.098619        2.124273       0.065571               5   \n",
       "17          2.100254        2.124343       0.065630               6   \n",
       "5           2.100310        2.124403       0.069120               7   \n",
       "11          2.102617        2.124940       0.067061               8   \n",
       "2           2.099005        2.125190       0.065527               9   \n",
       "0           2.106993        2.125320       0.064409              10   \n",
       "14          2.103590        2.127211       0.068205              11   \n",
       "12          2.107116        2.127641       0.069575              12   \n",
       "8           2.113758        2.127972       0.068623              13   \n",
       "3           2.100557        2.128779       0.065061              14   \n",
       "15          2.105012        2.129529       0.068320              15   \n",
       "13          2.108797        2.129824       0.070146              16   \n",
       "9           2.119188        2.130612       0.069733              17   \n",
       "1           2.120108        2.132703       0.062305              18   \n",
       "\n",
       "    split0_test_mae  split1_test_mae  ...  mean_fit_time  std_fit_time  \\\n",
       "6          1.686740         1.636938  ...       0.063829      0.015565   \n",
       "4          1.681745         1.635730  ...       0.073006      0.027428   \n",
       "16         1.689052         1.641675  ...       0.090159      0.004829   \n",
       "10         1.690768         1.637146  ...       0.075598      0.004567   \n",
       "7          1.683163         1.641257  ...       0.103523      0.021141   \n",
       "17         1.683664         1.643567  ...       0.129652      0.008626   \n",
       "5          1.674849         1.639416  ...       0.098137      0.022225   \n",
       "11         1.688963         1.638657  ...       0.107113      0.006693   \n",
       "2          1.685760         1.648622  ...       0.055647      0.013950   \n",
       "0          1.687592         1.641944  ...       0.040292      0.005627   \n",
       "14         1.699362         1.642245  ...       0.078790      0.008104   \n",
       "12         1.690516         1.632868  ...       0.081382      0.006070   \n",
       "8          1.689131         1.634074  ...       0.068816      0.005352   \n",
       "3          1.680501         1.656171  ...       0.098072      0.023498   \n",
       "15         1.697975         1.646263  ...       0.112331      0.014592   \n",
       "13         1.687239         1.633814  ...       0.125265      0.023198   \n",
       "9          1.686971         1.633627  ...       0.109508      0.017700   \n",
       "1          1.683029         1.652039  ...       0.080785      0.010113   \n",
       "\n",
       "    mean_test_time  std_test_time  \\\n",
       "6         0.003790       0.001323   \n",
       "4         0.004387       0.001490   \n",
       "16        0.003392       0.000489   \n",
       "10        0.004389       0.000488   \n",
       "7         0.004588       0.001620   \n",
       "17        0.003591       0.001620   \n",
       "5         0.005985       0.002186   \n",
       "11        0.002793       0.001163   \n",
       "2         0.003192       0.000399   \n",
       "0         0.002991       0.000892   \n",
       "14        0.003191       0.000745   \n",
       "12        0.004987       0.004039   \n",
       "8         0.004189       0.001466   \n",
       "3         0.005187       0.002221   \n",
       "15        0.003391       0.000488   \n",
       "13        0.003391       0.000489   \n",
       "9         0.004587       0.001017   \n",
       "1         0.006582       0.002053   \n",
       "\n",
       "                                               params  param_n_factors  \\\n",
       "6   {'n_factors': 20, 'n_epochs': 20, 'random_stat...               20   \n",
       "4   {'n_factors': 15, 'n_epochs': 20, 'random_stat...               15   \n",
       "16  {'n_factors': 45, 'n_epochs': 20, 'random_stat...               45   \n",
       "10  {'n_factors': 30, 'n_epochs': 20, 'random_stat...               30   \n",
       "7   {'n_factors': 20, 'n_epochs': 30, 'random_stat...               20   \n",
       "17  {'n_factors': 45, 'n_epochs': 30, 'random_stat...               45   \n",
       "5   {'n_factors': 15, 'n_epochs': 30, 'random_stat...               15   \n",
       "11  {'n_factors': 30, 'n_epochs': 30, 'random_stat...               30   \n",
       "2   {'n_factors': 10, 'n_epochs': 20, 'random_stat...               10   \n",
       "0   {'n_factors': 5, 'n_epochs': 20, 'random_state...                5   \n",
       "14  {'n_factors': 40, 'n_epochs': 20, 'random_stat...               40   \n",
       "12  {'n_factors': 35, 'n_epochs': 20, 'random_stat...               35   \n",
       "8   {'n_factors': 25, 'n_epochs': 20, 'random_stat...               25   \n",
       "3   {'n_factors': 10, 'n_epochs': 30, 'random_stat...               10   \n",
       "15  {'n_factors': 40, 'n_epochs': 30, 'random_stat...               40   \n",
       "13  {'n_factors': 35, 'n_epochs': 30, 'random_stat...               35   \n",
       "9   {'n_factors': 25, 'n_epochs': 30, 'random_stat...               25   \n",
       "1   {'n_factors': 5, 'n_epochs': 30, 'random_state...                5   \n",
       "\n",
       "    param_n_epochs  param_random_state  param_lr_all  param_reg_all  \n",
       "6               20                  42          0.01            0.1  \n",
       "4               20                  42          0.01            0.1  \n",
       "16              20                  42          0.01            0.1  \n",
       "10              20                  42          0.01            0.1  \n",
       "7               30                  42          0.01            0.1  \n",
       "17              30                  42          0.01            0.1  \n",
       "5               30                  42          0.01            0.1  \n",
       "11              30                  42          0.01            0.1  \n",
       "2               20                  42          0.01            0.1  \n",
       "0               20                  42          0.01            0.1  \n",
       "14              20                  42          0.01            0.1  \n",
       "12              20                  42          0.01            0.1  \n",
       "8               20                  42          0.01            0.1  \n",
       "3               30                  42          0.01            0.1  \n",
       "15              30                  42          0.01            0.1  \n",
       "13              30                  42          0.01            0.1  \n",
       "9               30                  42          0.01            0.1  \n",
       "1               30                  42          0.01            0.1  \n",
       "\n",
       "[18 rows x 26 columns]"
      ]
     },
     "execution_count": 93,
     "metadata": {},
     "output_type": "execute_result"
    }
   ],
   "source": [
    "pd.DataFrame(gs.cv_results).sort_values(\"mean_test_rmse\")"
   ]
  },
  {
   "cell_type": "markdown",
   "metadata": {
    "id": "VvYx7vOdizQz"
   },
   "source": [
    "Si calcola RMSE e MAE sul validation set del modello migliore individuato"
   ]
  },
  {
   "cell_type": "code",
   "execution_count": 94,
   "metadata": {
    "colab": {
     "base_uri": "https://localhost:8080/"
    },
    "id": "RRJSALKBizQz",
    "outputId": "727df7c0-4d10-432b-d05e-4b3a496cf1fb",
    "scrolled": true
   },
   "outputs": [
    {
     "name": "stdout",
     "output_type": "stream",
     "text": [
      "RMSE: 1.0883\n",
      "MAE:  0.8502\n"
     ]
    },
    {
     "data": {
      "text/plain": [
       "(1.088255573660189, 0.8502113590747339)"
      ]
     },
     "execution_count": 94,
     "metadata": {},
     "output_type": "execute_result"
    }
   ],
   "source": [
    "preds = gs.test(data_test)\n",
    "rmse(preds), mae(preds)"
   ]
  },
  {
   "cell_type": "markdown",
   "metadata": {
    "id": "vTh-5Qx8izQ0"
   },
   "source": [
    "Si definisce una funzione Recommend che prende in input l'indice numerico di un utente e che restituisce una lista dei film con valutazione più simile alle sue"
   ]
  },
  {
   "cell_type": "code",
   "execution_count": 95,
   "metadata": {
    "id": "DXNHluPqizQ0"
   },
   "outputs": [],
   "source": [
    "def recommend(uid, n_recomms):\n",
    "    user_id = user_ratings[\"user_id\"].unique()[uid]\n",
    "    preds = [gs.predict(user_id, data_train.to_raw_iid(ii))\n",
    "             for ii in range(data_train.n_items)]\n",
    "    preds.sort(key=lambda p: p.est, reverse=True)\n",
    "    return pd.DataFrame([(p.iid, p.est) for p in preds[:n_recomms]], columns=[\"title\",\"rating\"])"
   ]
  },
  {
   "cell_type": "code",
   "execution_count": 102,
   "metadata": {
    "colab": {
     "base_uri": "https://localhost:8080/",
     "height": 359
    },
    "id": "Xs8imbXCizQ1",
    "outputId": "c75b1e61-03bf-4c2e-f804-a7ea1e2f1473",
    "scrolled": true
   },
   "outputs": [
    {
     "data": {
      "text/html": [
       "<div>\n",
       "<style scoped>\n",
       "    .dataframe tbody tr th:only-of-type {\n",
       "        vertical-align: middle;\n",
       "    }\n",
       "\n",
       "    .dataframe tbody tr th {\n",
       "        vertical-align: top;\n",
       "    }\n",
       "\n",
       "    .dataframe thead th {\n",
       "        text-align: right;\n",
       "    }\n",
       "</style>\n",
       "<table border=\"1\" class=\"dataframe\">\n",
       "  <thead>\n",
       "    <tr style=\"text-align: right;\">\n",
       "      <th></th>\n",
       "      <th>title</th>\n",
       "      <th>rating</th>\n",
       "    </tr>\n",
       "  </thead>\n",
       "  <tbody>\n",
       "    <tr>\n",
       "      <th>0</th>\n",
       "      <td>The Matrix</td>\n",
       "      <td>7.916165</td>\n",
       "    </tr>\n",
       "    <tr>\n",
       "      <th>1</th>\n",
       "      <td>The Sixth Sense</td>\n",
       "      <td>7.840697</td>\n",
       "    </tr>\n",
       "    <tr>\n",
       "      <th>2</th>\n",
       "      <td>South Park: Bigger, Longer &amp; Uncut</td>\n",
       "      <td>7.590330</td>\n",
       "    </tr>\n",
       "    <tr>\n",
       "      <th>3</th>\n",
       "      <td>Crouching Tiger, Hidden Dragon</td>\n",
       "      <td>7.418708</td>\n",
       "    </tr>\n",
       "    <tr>\n",
       "      <th>4</th>\n",
       "      <td>Saving Private Ryan</td>\n",
       "      <td>7.372068</td>\n",
       "    </tr>\n",
       "    <tr>\n",
       "      <th>5</th>\n",
       "      <td>Breaking the Waves</td>\n",
       "      <td>7.367003</td>\n",
       "    </tr>\n",
       "    <tr>\n",
       "      <th>6</th>\n",
       "      <td>Being John Malkovich</td>\n",
       "      <td>7.343556</td>\n",
       "    </tr>\n",
       "    <tr>\n",
       "      <th>7</th>\n",
       "      <td>The Lord of the Rings: The Fellowship of the Ring</td>\n",
       "      <td>7.339380</td>\n",
       "    </tr>\n",
       "    <tr>\n",
       "      <th>8</th>\n",
       "      <td>Rush Hour</td>\n",
       "      <td>7.310901</td>\n",
       "    </tr>\n",
       "    <tr>\n",
       "      <th>9</th>\n",
       "      <td>Buffalo '66</td>\n",
       "      <td>7.284532</td>\n",
       "    </tr>\n",
       "  </tbody>\n",
       "</table>\n",
       "</div>"
      ],
      "text/plain": [
       "                                               title    rating\n",
       "0                                         The Matrix  7.916165\n",
       "1                                    The Sixth Sense  7.840697\n",
       "2                 South Park: Bigger, Longer & Uncut  7.590330\n",
       "3                     Crouching Tiger, Hidden Dragon  7.418708\n",
       "4                                Saving Private Ryan  7.372068\n",
       "5                                 Breaking the Waves  7.367003\n",
       "6                               Being John Malkovich  7.343556\n",
       "7  The Lord of the Rings: The Fellowship of the Ring  7.339380\n",
       "8                                          Rush Hour  7.310901\n",
       "9                                        Buffalo '66  7.284532"
      ]
     },
     "execution_count": 102,
     "metadata": {},
     "output_type": "execute_result"
    }
   ],
   "source": [
    "recommend(900, 10)"
   ]
  },
  {
   "cell_type": "markdown",
   "metadata": {
    "id": "_BDknpSvizQ1"
   },
   "source": [
    " ## Conclusioni"
   ]
  },
  {
   "cell_type": "markdown",
   "metadata": {
    "id": "KcsIVB4hizQ2"
   },
   "source": [
    "In conclusione ritengo soddifacente l'accuratezza raggiunta dal modello di valutazione, grazie a questi modelli è stato possibile effettuare uno studio e un'analisi sul dataset, con lo scopo di ottenere una previsione approssimativa dei film da consigliare ad un utente in base al suo profilo di valutazioni."
   ]
  }
 ],
 "metadata": {
  "colab": {
   "collapsed_sections": [
    "6URj3zp9izPz"
   ],
   "name": "Progetto.ipynb",
   "provenance": []
  },
  "kernelspec": {
   "display_name": "Python 3",
   "language": "python",
   "name": "python3"
  },
  "language_info": {
   "codemirror_mode": {
    "name": "ipython",
    "version": 3
   },
   "file_extension": ".py",
   "mimetype": "text/x-python",
   "name": "python",
   "nbconvert_exporter": "python",
   "pygments_lexer": "ipython3",
   "version": "3.7.6"
  }
 },
 "nbformat": 4,
 "nbformat_minor": 1
}
